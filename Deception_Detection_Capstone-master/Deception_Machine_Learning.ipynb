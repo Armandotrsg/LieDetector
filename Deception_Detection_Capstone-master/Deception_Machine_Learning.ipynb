{
 "cells": [
  {
   "cell_type": "markdown",
   "metadata": {},
   "source": [
    "# Summary\n",
    "\n",
    "## Problem\n",
    "    Can verbal deception be predicted with machine learning?\n",
    "\n",
    "## Approach\n",
    "### 2 datasets for machine learning\n",
    "    The standard in natural language processing is to normalize text, i.e., distill content in statements by\n",
    "    removing frequent words (i.e., stopwords), punctuation, etc.\n",
    "    But, given the statistics from the data analysis revealed that the frequency of stopwords, punctuation, etc.\n",
    "    varied with statistical difference in lies versus truth, \n",
    "    I hypothesize that normalization may lower the ability for machine learning algorithms to predict deception.\n",
    "    To test this hypothesis, I will compare a lightly normalized permutation of the raw statements to a \n",
    "    fully normalized permutation.\n",
    "#### Dataset 1 - Lightly normalized statements\n",
    "    Statement words were converted to lowercase, and the following were removed: \n",
    "    whitespaces, html tags, accented characters, and extra new lines\n",
    "#### Dataset 2 - Fully normalized statements\n",
    "    \"Lightly normalized statements\" were lemmatized and additionally had the following removed: \n",
    "    punctuation, stopwords, non-alphabetic characters\n",
    "## Results\n",
    "### Datasets\n",
    "    In most cases, lightly normalized statements were better able to predict the test data\n",
    "### BoW VS n-GRAM = 1-2 VS n-GRAM = 1-3 vs Tfidf\n",
    "    n-grams of size 1-2 or 1-3 outperformed other models equally well\n",
    "### Multinomial Naive Bayes (mnb) VS Logistic Regression (lgr) VS Random Forests\n",
    "    Multinomial Naive Bayes and Logistic Regression outperformed random forests; MNB and LR did equally well\n",
    "    Optimizing for accuracy delivered the best results perhaps because the data was balanced (50% lies, truth)\n",
    "### Best on hold-out\n",
    "    Best test set - 58% accuracy: lightly normalized statements * ngram_range = (1,2) * logistic regression\n",
    "    Tied with - 58% accuracy: lightly normalized statements * ngram_range = (1,3) * multinomial naive bayes"
   ]
  },
  {
   "cell_type": "code",
   "execution_count": 2,
   "metadata": {},
   "outputs": [
    {
     "name": "stderr",
     "output_type": "stream",
     "text": [
      "2022-11-09 13:21:22.038808: I tensorflow/core/platform/cpu_feature_guard.cc:193] This TensorFlow binary is optimized with oneAPI Deep Neural Network Library (oneDNN) to use the following CPU instructions in performance-critical operations:  AVX2 FMA\n",
      "To enable them in other operations, rebuild TensorFlow with the appropriate compiler flags.\n"
     ]
    }
   ],
   "source": [
    "# Packages for Data Manipulation\n",
    "import numpy as np\n",
    "import pandas as pd\n",
    "import os\n",
    "from collections import Counter\n",
    "import spacy\n",
    "\n",
    "# for NLP\n",
    "import re\n",
    "import unicodedata\n",
    "from bs4 import BeautifulSoup\n",
    "\n",
    "# Packages for Graphics\n",
    "import matplotlib as mpl\n",
    "import matplotlib.pyplot as plt\n",
    "import seaborn as sns\n",
    "\n",
    "# Packages for ML\n",
    "from sklearn.feature_extraction.text import CountVectorizer\n",
    "from sklearn.feature_extraction.text import TfidfVectorizer\n",
    "from sklearn.model_selection import train_test_split\n",
    "from sklearn.model_selection import GridSearchCV\n",
    "from sklearn.model_selection import KFold\n",
    "from sklearn.model_selection import cross_val_score\n",
    "\n",
    "from sklearn.ensemble import RandomForestClassifier\n",
    "from sklearn.linear_model import LogisticRegression\n",
    "from sklearn.naive_bayes import MultinomialNB\n",
    "\n",
    "from sklearn import metrics\n",
    "from sklearn.metrics import accuracy_score\n",
    "from sklearn.metrics import roc_curve\n",
    "from sklearn.metrics import roc_auc_score\n",
    "from sklearn.metrics import precision_recall_curve\n",
    "from sklearn.metrics import average_precision_score\n",
    "from sklearn.metrics import classification_report\n",
    "from sklearn.metrics import confusion_matrix\n",
    "from sklearn.metrics import fbeta_score\n",
    "from sklearn.pipeline import Pipeline\n",
    "from sklearn.preprocessing import StandardScaler\n",
    "\n",
    "# to see all the cells and data in the dataframes\n",
    "pd.set_option('display.width', 500)\n",
    "pd.set_option('display.max_columns', 300)\n",
    "pd.set_option('display.max_colwidth', 300) \n",
    "\n",
    "# to hide warnings about train/test size for train_test_split\n",
    "import warnings\n",
    "warnings.filterwarnings('ignore')"
   ]
  },
  {
   "cell_type": "code",
   "execution_count": 3,
   "metadata": {
    "scrolled": true
   },
   "outputs": [
    {
     "data": {
      "text/html": [
       "<div>\n",
       "<style scoped>\n",
       "    .dataframe tbody tr th:only-of-type {\n",
       "        vertical-align: middle;\n",
       "    }\n",
       "\n",
       "    .dataframe tbody tr th {\n",
       "        vertical-align: top;\n",
       "    }\n",
       "\n",
       "    .dataframe thead th {\n",
       "        text-align: right;\n",
       "    }\n",
       "</style>\n",
       "<table border=\"1\" class=\"dataframe\">\n",
       "  <thead>\n",
       "    <tr style=\"text-align: right;\">\n",
       "      <th></th>\n",
       "      <th>veracity</th>\n",
       "      <th>statement</th>\n",
       "    </tr>\n",
       "  </thead>\n",
       "  <tbody>\n",
       "    <tr>\n",
       "      <th>3</th>\n",
       "      <td>Pants on Fire!</td>\n",
       "      <td>\"Tim Kaine doesn’t want a border at all. He wants to get rid of Immigration and Customs Enforcement and basically the border patrol as well.\"</td>\n",
       "    </tr>\n",
       "    <tr>\n",
       "      <th>6</th>\n",
       "      <td>Pants on Fire!</td>\n",
       "      <td>\"The deficit ... is coming down, and it’s coming down rapidly.\"</td>\n",
       "    </tr>\n",
       "    <tr>\n",
       "      <th>10</th>\n",
       "      <td>False</td>\n",
       "      <td>\"Our courts find that 80 percent of those who do file for asylum aren’t qualified for it, do not merit that relief.\"</td>\n",
       "    </tr>\n",
       "    <tr>\n",
       "      <th>23</th>\n",
       "      <td>True</td>\n",
       "      <td>\"Migrant mother and ‘crying girl’ on Time cover never separated.\"</td>\n",
       "    </tr>\n",
       "    <tr>\n",
       "      <th>35</th>\n",
       "      <td>True</td>\n",
       "      <td>\"Under Emanuel, CPS has become the most understaffed school district in Illinois.\"</td>\n",
       "    </tr>\n",
       "  </tbody>\n",
       "</table>\n",
       "</div>"
      ],
      "text/plain": [
       "          veracity                                                                                                                                      statement\n",
       "3   Pants on Fire!  \"Tim Kaine doesn’t want a border at all. He wants to get rid of Immigration and Customs Enforcement and basically the border patrol as well.\"\n",
       "6   Pants on Fire!                                                                                \"The deficit ... is coming down, and it’s coming down rapidly.\"\n",
       "10           False                           \"Our courts find that 80 percent of those who do file for asylum aren’t qualified for it, do not merit that relief.\"\n",
       "23            True                                                                              \"Migrant mother and ‘crying girl’ on Time cover never separated.\"\n",
       "35            True                                                             \"Under Emanuel, CPS has become the most understaffed school district in Illinois.\""
      ]
     },
     "execution_count": 3,
     "metadata": {},
     "output_type": "execute_result"
    }
   ],
   "source": [
    "# csv to df\n",
    "path = os.path.abspath('politifact_cleaned_data.csv')\n",
    "df = pd.read_csv(path, index_col=0)\n",
    "\n",
    "# specify rows of importance\n",
    "df = df[[\"veracity\", \"statement\"]]\n",
    "\n",
    "# See sample of data\n",
    "df.head(5)"
   ]
  },
  {
   "cell_type": "code",
   "execution_count": 4,
   "metadata": {},
   "outputs": [
    {
     "name": "stdout",
     "output_type": "stream",
     "text": [
      "<class 'pandas.core.frame.DataFrame'>\n",
      "Int64Index: 1252 entries, 3 to 14208\n",
      "Data columns (total 2 columns):\n",
      " #   Column     Non-Null Count  Dtype \n",
      "---  ------     --------------  ----- \n",
      " 0   veracity   1252 non-null   object\n",
      " 1   statement  1252 non-null   object\n",
      "dtypes: object(2)\n",
      "memory usage: 29.3+ KB\n"
     ]
    }
   ],
   "source": [
    "df.info()"
   ]
  },
  {
   "cell_type": "markdown",
   "metadata": {},
   "source": [
    "# We have 3 classes in our target column, \"veracity\": True, False, and Pants on Fire!\n",
    "\n",
    "# Politifact defines these as TRUE – The statement is accurate and there’s nothing significant missing; FALSE – The statement is not accurate; PANTS ON FIRE – The statement is not accurate and makes a ridiculous claim.\n",
    "source: https://www.politifact.com/truth-o-meter/article/2018/feb/12/principles-truth-o-meter-politifacts-methodology-i/#Truth-O-Meter%20ratings\n",
    "\n",
    "# We have several options to proceed: \n",
    "## (1) drop Pants on Fire to perform binary classification\n",
    "## (2) merge Pants on Fire with False statements to perform binary classification\n",
    "## (3) keep Pants on Fire and perform multiclass classification\n",
    "\n",
    "\n",
    "# For simplicity and to keep 50% balance between True and False statements, we will drop \"Pants on Fire!\""
   ]
  },
  {
   "cell_type": "code",
   "execution_count": 5,
   "metadata": {},
   "outputs": [],
   "source": [
    "# drop Pants on Fire statements so that true and false statements are balanced in terms of quantity\n",
    "df = df[~df.isin(['Pants on Fire!']).any(axis=1)]\n",
    "\n",
    "# turn strings true and false into their boolean counterparts\n",
    "df.veracity = df.veracity.map({'False': False, 'True': True})"
   ]
  },
  {
   "cell_type": "code",
   "execution_count": 6,
   "metadata": {},
   "outputs": [
    {
     "data": {
      "text/html": [
       "<div>\n",
       "<style scoped>\n",
       "    .dataframe tbody tr th:only-of-type {\n",
       "        vertical-align: middle;\n",
       "    }\n",
       "\n",
       "    .dataframe tbody tr th {\n",
       "        vertical-align: top;\n",
       "    }\n",
       "\n",
       "    .dataframe thead th {\n",
       "        text-align: right;\n",
       "    }\n",
       "</style>\n",
       "<table border=\"1\" class=\"dataframe\">\n",
       "  <thead>\n",
       "    <tr style=\"text-align: right;\">\n",
       "      <th></th>\n",
       "      <th>veracity</th>\n",
       "      <th>statement</th>\n",
       "    </tr>\n",
       "  </thead>\n",
       "  <tbody>\n",
       "    <tr>\n",
       "      <th>10</th>\n",
       "      <td>False</td>\n",
       "      <td>\"Our courts find that 80 percent of those who do file for asylum aren’t qualified for it, do not merit that relief.\"</td>\n",
       "    </tr>\n",
       "    <tr>\n",
       "      <th>23</th>\n",
       "      <td>True</td>\n",
       "      <td>\"Migrant mother and ‘crying girl’ on Time cover never separated.\"</td>\n",
       "    </tr>\n",
       "    <tr>\n",
       "      <th>35</th>\n",
       "      <td>True</td>\n",
       "      <td>\"Under Emanuel, CPS has become the most understaffed school district in Illinois.\"</td>\n",
       "    </tr>\n",
       "    <tr>\n",
       "      <th>54</th>\n",
       "      <td>False</td>\n",
       "      <td>\"Our courts find that 80 percent of those who do file for asylum aren’t qualified for it, do not merit that relief.\"</td>\n",
       "    </tr>\n",
       "    <tr>\n",
       "      <th>68</th>\n",
       "      <td>False</td>\n",
       "      <td>\"Facebook picks sides in Alabama Senate race ... shuts down Gateway Pundit and Breitbart reports on discredited Allred accuser\"</td>\n",
       "    </tr>\n",
       "  </tbody>\n",
       "</table>\n",
       "</div>"
      ],
      "text/plain": [
       "    veracity                                                                                                                        statement\n",
       "10     False             \"Our courts find that 80 percent of those who do file for asylum aren’t qualified for it, do not merit that relief.\"\n",
       "23      True                                                                \"Migrant mother and ‘crying girl’ on Time cover never separated.\"\n",
       "35      True                                               \"Under Emanuel, CPS has become the most understaffed school district in Illinois.\"\n",
       "54     False             \"Our courts find that 80 percent of those who do file for asylum aren’t qualified for it, do not merit that relief.\"\n",
       "68     False  \"Facebook picks sides in Alabama Senate race ... shuts down Gateway Pundit and Breitbart reports on discredited Allred accuser\""
      ]
     },
     "execution_count": 6,
     "metadata": {},
     "output_type": "execute_result"
    }
   ],
   "source": [
    "df.head(5)"
   ]
  },
  {
   "cell_type": "code",
   "execution_count": 7,
   "metadata": {},
   "outputs": [
    {
     "name": "stdout",
     "output_type": "stream",
     "text": [
      "true statements:  518\n",
      "false statements:  489\n",
      "chance of truth baseline:  0.51\n",
      "chance of false baseline:  0.49\n"
     ]
    }
   ],
   "source": [
    "# this cell is most useful for imbalanced data; here we use it only for verification\n",
    "# ratio of true to false in the data set (i.e., our \"chance\" baseline)\n",
    "print(\"true statements: \", round(len(df.veracity[df.veracity == True]),2))\n",
    "print(\"false statements: \", round(len(df.veracity[df.veracity == False]),2))\n",
    "\n",
    "tru_count = len(df.veracity[df.veracity == True])\n",
    "fal_count = len(df.veracity[df.veracity == False])\n",
    "\n",
    "print(\"chance of truth baseline: \", round(tru_count/(tru_count + fal_count),2)) # len(df) as denominator also works\n",
    "print(\"chance of false baseline: \", round(fal_count/(tru_count + fal_count),2))"
   ]
  },
  {
   "cell_type": "markdown",
   "metadata": {},
   "source": [
    "# Creating normalized text"
   ]
  },
  {
   "cell_type": "code",
   "execution_count": 17,
   "metadata": {},
   "outputs": [
    {
     "ename": "TypeError",
     "evalue": "load() got an unexpected keyword argument 'parse'",
     "output_type": "error",
     "traceback": [
      "\u001b[0;31m---------------------------------------------------------------------------\u001b[0m",
      "\u001b[0;31mTypeError\u001b[0m                                 Traceback (most recent call last)",
      "Cell \u001b[0;32mIn [17], line 1\u001b[0m\n\u001b[0;32m----> 1\u001b[0m nlp \u001b[39m=\u001b[39m spacy\u001b[39m.\u001b[39;49mload(\u001b[39m'\u001b[39;49m\u001b[39men_core_web_sm\u001b[39;49m\u001b[39m'\u001b[39;49m, parse\u001b[39m=\u001b[39;49m\u001b[39mTrue\u001b[39;49;00m, tag\u001b[39m=\u001b[39;49m\u001b[39mTrue\u001b[39;49;00m, entity\u001b[39m=\u001b[39;49m\u001b[39mTrue\u001b[39;49;00m)\n\u001b[1;32m      3\u001b[0m \u001b[39mdef\u001b[39;00m \u001b[39mstrip_html_tags\u001b[39m(text):\n\u001b[1;32m      4\u001b[0m             soup \u001b[39m=\u001b[39m BeautifulSoup(text, \u001b[39m\"\u001b[39m\u001b[39mhtml.parser\u001b[39m\u001b[39m\"\u001b[39m)\n",
      "\u001b[0;31mTypeError\u001b[0m: load() got an unexpected keyword argument 'parse'"
     ]
    }
   ],
   "source": [
    "nlp = spacy.load('en_core_web_sm', parse=True, tag=True, entity=True)\n",
    "\n",
    "def strip_html_tags(text):\n",
    "            soup = BeautifulSoup(text, \"html.parser\")\n",
    "            [s.extract() for s in soup([\"iframe\", \"script\"])]\n",
    "            stripped_text = soup.get_text()\n",
    "            stripped_text = re.sub(r'[\\r|\\n|\\r\\n]+', '\\n', stripped_text)\n",
    "            return stripped_text\n",
    "        \n",
    "def remove_accented_characters(text):\n",
    "    text = unicodedata.normalize('NFKD', text).encode('ascii', 'ignore').decode('utf-8', 'ignore')\n",
    "    return text"
   ]
  },
  {
   "cell_type": "code",
   "execution_count": 13,
   "metadata": {},
   "outputs": [],
   "source": [
    "# lemmatization function\n",
    "def normalize(text, \n",
    "              remove_html = False, \n",
    "              lowercase = False,\n",
    "              lemmatize = False,\n",
    "              remove_extra_newlines = False,\n",
    "              remove_stopwords = False,\n",
    "              remove_non_alphabetic = False,\n",
    "              remove_accented_char = False,\n",
    "              ):\n",
    "        \n",
    "    # remove html\n",
    "    if remove_html:\n",
    "        text = strip_html_tags(text)\n",
    "\n",
    "    # lowercase all text\n",
    "    if lowercase:\n",
    "        text = text.lower()\n",
    "        \n",
    "    # lemmatize\n",
    "    if lemmatize:        \n",
    "        text = nlp(text)\n",
    "        text = ' '.join([word.lemma_ if word.lemma_ != '-PRON-' else word.text for word in text])\n",
    "        \n",
    "    # remove extra new lines    \n",
    "    if remove_extra_newlines:\n",
    "        text = re.sub(r'[\\r|\\n|\\r\\n]+', ' ', text)\n",
    "    \n",
    "    # remove stopwords\n",
    "    if remove_stopwords:\n",
    "        stopwords = spacy.lang.en.stop_words.STOP_WORDS\n",
    "        text = nlp(text)\n",
    "        text = ' '.join([token.text for token in text if token.text not in stopwords])\n",
    "    \n",
    "    # remove non-alphabetic characters\n",
    "    if remove_non_alphabetic:\n",
    "        text = nlp(text)\n",
    "        text = ' '.join([token.text for token in text if token.text.isalpha()])\n",
    "        \n",
    "    # remove accented characters\n",
    "    if remove_accented_char:\n",
    "        text = remove_accented_characters(text)\n",
    "\n",
    "    return text"
   ]
  },
  {
   "cell_type": "markdown",
   "metadata": {},
   "source": [
    "# Light Normalization"
   ]
  },
  {
   "cell_type": "code",
   "execution_count": 14,
   "metadata": {},
   "outputs": [
    {
     "data": {
      "text/plain": [
       "\"@ ! i don'ttt, won't, a feel    can't not using the  nlp 27x maaaah?\""
      ]
     },
     "execution_count": 14,
     "metadata": {},
     "output_type": "execute_result"
    }
   ],
   "source": [
    "# sample of light normalizer\n",
    "string = \"@ ! i DON'TTT, won't, a féél    can't not USING the  NLP 27x maaaah?\"\n",
    "\n",
    "normalize(string, \n",
    "          remove_html = True, \n",
    "          lowercase = True,\n",
    "          remove_extra_newlines = True,\n",
    "          remove_accented_char = True)"
   ]
  },
  {
   "cell_type": "code",
   "execution_count": 15,
   "metadata": {},
   "outputs": [],
   "source": [
    "df[\"light_normalization\"] = df.statement.apply(lambda x : normalize(x, \n",
    "                                                                  remove_html = True, \n",
    "                                                                  lowercase = True,\n",
    "                                                                  remove_extra_newlines = True,\n",
    "                                                                  remove_accented_char = True))"
   ]
  },
  {
   "cell_type": "markdown",
   "metadata": {},
   "source": [
    "# Full Normalization"
   ]
  },
  {
   "cell_type": "code",
   "execution_count": 16,
   "metadata": {},
   "outputs": [
    {
     "ename": "NameError",
     "evalue": "name 'nlp' is not defined",
     "output_type": "error",
     "traceback": [
      "\u001b[0;31m---------------------------------------------------------------------------\u001b[0m",
      "\u001b[0;31mNameError\u001b[0m                                 Traceback (most recent call last)",
      "Cell \u001b[0;32mIn [16], line 2\u001b[0m\n\u001b[1;32m      1\u001b[0m \u001b[39m# sample of full normalizer\u001b[39;00m\n\u001b[0;32m----> 2\u001b[0m normalize(string, \n\u001b[1;32m      3\u001b[0m           remove_html \u001b[39m=\u001b[39;49m \u001b[39mTrue\u001b[39;49;00m, \n\u001b[1;32m      4\u001b[0m           lowercase \u001b[39m=\u001b[39;49m \u001b[39mTrue\u001b[39;49;00m,\n\u001b[1;32m      5\u001b[0m           remove_extra_newlines \u001b[39m=\u001b[39;49m \u001b[39mTrue\u001b[39;49;00m,\n\u001b[1;32m      6\u001b[0m           remove_accented_char \u001b[39m=\u001b[39;49m \u001b[39mTrue\u001b[39;49;00m,\n\u001b[1;32m      7\u001b[0m           lemmatize \u001b[39m=\u001b[39;49m \u001b[39mTrue\u001b[39;49;00m, \u001b[39m# note that lemmatize does not work properly if text is not lowercased first\u001b[39;49;00m\n\u001b[1;32m      8\u001b[0m           remove_stopwords \u001b[39m=\u001b[39;49m \u001b[39mTrue\u001b[39;49;00m,\n\u001b[1;32m      9\u001b[0m           remove_non_alphabetic \u001b[39m=\u001b[39;49m \u001b[39mTrue\u001b[39;49;00m)\n",
      "Cell \u001b[0;32mIn [13], line 22\u001b[0m, in \u001b[0;36mnormalize\u001b[0;34m(text, remove_html, lowercase, lemmatize, remove_extra_newlines, remove_stopwords, remove_non_alphabetic, remove_accented_char)\u001b[0m\n\u001b[1;32m     20\u001b[0m \u001b[39m# lemmatize\u001b[39;00m\n\u001b[1;32m     21\u001b[0m \u001b[39mif\u001b[39;00m lemmatize:        \n\u001b[0;32m---> 22\u001b[0m     text \u001b[39m=\u001b[39m nlp(text)\n\u001b[1;32m     23\u001b[0m     text \u001b[39m=\u001b[39m \u001b[39m'\u001b[39m\u001b[39m \u001b[39m\u001b[39m'\u001b[39m\u001b[39m.\u001b[39mjoin([word\u001b[39m.\u001b[39mlemma_ \u001b[39mif\u001b[39;00m word\u001b[39m.\u001b[39mlemma_ \u001b[39m!=\u001b[39m \u001b[39m'\u001b[39m\u001b[39m-PRON-\u001b[39m\u001b[39m'\u001b[39m \u001b[39melse\u001b[39;00m word\u001b[39m.\u001b[39mtext \u001b[39mfor\u001b[39;00m word \u001b[39min\u001b[39;00m text])\n\u001b[1;32m     25\u001b[0m \u001b[39m# remove extra new lines    \u001b[39;00m\n",
      "\u001b[0;31mNameError\u001b[0m: name 'nlp' is not defined"
     ]
    }
   ],
   "source": [
    "# sample of full normalizer\n",
    "normalize(string, \n",
    "          remove_html = True, \n",
    "          lowercase = True,\n",
    "          remove_extra_newlines = True,\n",
    "          remove_accented_char = True,\n",
    "          lemmatize = True, # note that lemmatize does not work properly if text is not lowercased first\n",
    "          remove_stopwords = True,\n",
    "          remove_non_alphabetic = True) \n",
    "\n",
    "# non_alphabetic will remove not only non-alphabetic characters, but also blank spaces"
   ]
  },
  {
   "cell_type": "code",
   "execution_count": 18,
   "metadata": {},
   "outputs": [
    {
     "ename": "NameError",
     "evalue": "name 'nlp' is not defined",
     "output_type": "error",
     "traceback": [
      "\u001b[0;31m---------------------------------------------------------------------------\u001b[0m",
      "\u001b[0;31mNameError\u001b[0m                                 Traceback (most recent call last)",
      "Cell \u001b[0;32mIn [18], line 1\u001b[0m\n\u001b[0;32m----> 1\u001b[0m df[\u001b[39m\"\u001b[39m\u001b[39mfull_normalization\u001b[39m\u001b[39m\"\u001b[39m] \u001b[39m=\u001b[39m df\u001b[39m.\u001b[39;49mstatement\u001b[39m.\u001b[39;49mapply(\u001b[39mlambda\u001b[39;49;00m x : normalize(x, \n\u001b[1;32m      2\u001b[0m                                                                     remove_html \u001b[39m=\u001b[39;49m \u001b[39mTrue\u001b[39;49;00m, \n\u001b[1;32m      3\u001b[0m                                                                     lowercase \u001b[39m=\u001b[39;49m \u001b[39mTrue\u001b[39;49;00m,\n\u001b[1;32m      4\u001b[0m                                                                     remove_extra_newlines \u001b[39m=\u001b[39;49m \u001b[39mTrue\u001b[39;49;00m,\n\u001b[1;32m      5\u001b[0m                                                                     remove_accented_char \u001b[39m=\u001b[39;49m \u001b[39mTrue\u001b[39;49;00m,\n\u001b[1;32m      6\u001b[0m                                                                     lemmatize \u001b[39m=\u001b[39;49m \u001b[39mTrue\u001b[39;49;00m,\n\u001b[1;32m      7\u001b[0m                                                                     remove_stopwords \u001b[39m=\u001b[39;49m \u001b[39mTrue\u001b[39;49;00m,\n\u001b[1;32m      8\u001b[0m                                                                     remove_non_alphabetic \u001b[39m=\u001b[39;49m \u001b[39mTrue\u001b[39;49;00m))\n",
      "File \u001b[0;32m/Library/Frameworks/Python.framework/Versions/3.10/lib/python3.10/site-packages/pandas/core/series.py:4774\u001b[0m, in \u001b[0;36mSeries.apply\u001b[0;34m(self, func, convert_dtype, args, **kwargs)\u001b[0m\n\u001b[1;32m   4664\u001b[0m \u001b[39mdef\u001b[39;00m \u001b[39mapply\u001b[39m(\n\u001b[1;32m   4665\u001b[0m     \u001b[39mself\u001b[39m,\n\u001b[1;32m   4666\u001b[0m     func: AggFuncType,\n\u001b[0;32m   (...)\u001b[0m\n\u001b[1;32m   4669\u001b[0m     \u001b[39m*\u001b[39m\u001b[39m*\u001b[39mkwargs,\n\u001b[1;32m   4670\u001b[0m ) \u001b[39m-\u001b[39m\u001b[39m>\u001b[39m DataFrame \u001b[39m|\u001b[39m Series:\n\u001b[1;32m   4671\u001b[0m     \u001b[39m\"\"\"\u001b[39;00m\n\u001b[1;32m   4672\u001b[0m \u001b[39m    Invoke function on values of Series.\u001b[39;00m\n\u001b[1;32m   4673\u001b[0m \n\u001b[0;32m   (...)\u001b[0m\n\u001b[1;32m   4772\u001b[0m \u001b[39m    dtype: float64\u001b[39;00m\n\u001b[1;32m   4773\u001b[0m \u001b[39m    \"\"\"\u001b[39;00m\n\u001b[0;32m-> 4774\u001b[0m     \u001b[39mreturn\u001b[39;00m SeriesApply(\u001b[39mself\u001b[39;49m, func, convert_dtype, args, kwargs)\u001b[39m.\u001b[39;49mapply()\n",
      "File \u001b[0;32m/Library/Frameworks/Python.framework/Versions/3.10/lib/python3.10/site-packages/pandas/core/apply.py:1100\u001b[0m, in \u001b[0;36mSeriesApply.apply\u001b[0;34m(self)\u001b[0m\n\u001b[1;32m   1097\u001b[0m     \u001b[39mreturn\u001b[39;00m \u001b[39mself\u001b[39m\u001b[39m.\u001b[39mapply_str()\n\u001b[1;32m   1099\u001b[0m \u001b[39m# self.f is Callable\u001b[39;00m\n\u001b[0;32m-> 1100\u001b[0m \u001b[39mreturn\u001b[39;00m \u001b[39mself\u001b[39;49m\u001b[39m.\u001b[39;49mapply_standard()\n",
      "File \u001b[0;32m/Library/Frameworks/Python.framework/Versions/3.10/lib/python3.10/site-packages/pandas/core/apply.py:1151\u001b[0m, in \u001b[0;36mSeriesApply.apply_standard\u001b[0;34m(self)\u001b[0m\n\u001b[1;32m   1149\u001b[0m     \u001b[39melse\u001b[39;00m:\n\u001b[1;32m   1150\u001b[0m         values \u001b[39m=\u001b[39m obj\u001b[39m.\u001b[39mastype(\u001b[39mobject\u001b[39m)\u001b[39m.\u001b[39m_values\n\u001b[0;32m-> 1151\u001b[0m         mapped \u001b[39m=\u001b[39m lib\u001b[39m.\u001b[39;49mmap_infer(\n\u001b[1;32m   1152\u001b[0m             values,\n\u001b[1;32m   1153\u001b[0m             f,\n\u001b[1;32m   1154\u001b[0m             convert\u001b[39m=\u001b[39;49m\u001b[39mself\u001b[39;49m\u001b[39m.\u001b[39;49mconvert_dtype,\n\u001b[1;32m   1155\u001b[0m         )\n\u001b[1;32m   1157\u001b[0m \u001b[39mif\u001b[39;00m \u001b[39mlen\u001b[39m(mapped) \u001b[39mand\u001b[39;00m \u001b[39misinstance\u001b[39m(mapped[\u001b[39m0\u001b[39m], ABCSeries):\n\u001b[1;32m   1158\u001b[0m     \u001b[39m# GH#43986 Need to do list(mapped) in order to get treated as nested\u001b[39;00m\n\u001b[1;32m   1159\u001b[0m     \u001b[39m#  See also GH#25959 regarding EA support\u001b[39;00m\n\u001b[1;32m   1160\u001b[0m     \u001b[39mreturn\u001b[39;00m obj\u001b[39m.\u001b[39m_constructor_expanddim(\u001b[39mlist\u001b[39m(mapped), index\u001b[39m=\u001b[39mobj\u001b[39m.\u001b[39mindex)\n",
      "File \u001b[0;32m/Library/Frameworks/Python.framework/Versions/3.10/lib/python3.10/site-packages/pandas/_libs/lib.pyx:2919\u001b[0m, in \u001b[0;36mpandas._libs.lib.map_infer\u001b[0;34m()\u001b[0m\n",
      "Cell \u001b[0;32mIn [18], line 1\u001b[0m, in \u001b[0;36m<lambda>\u001b[0;34m(x)\u001b[0m\n\u001b[0;32m----> 1\u001b[0m df[\u001b[39m\"\u001b[39m\u001b[39mfull_normalization\u001b[39m\u001b[39m\"\u001b[39m] \u001b[39m=\u001b[39m df\u001b[39m.\u001b[39mstatement\u001b[39m.\u001b[39mapply(\u001b[39mlambda\u001b[39;00m x : normalize(x, \n\u001b[1;32m      2\u001b[0m                                                                     remove_html \u001b[39m=\u001b[39;49m \u001b[39mTrue\u001b[39;49;00m, \n\u001b[1;32m      3\u001b[0m                                                                     lowercase \u001b[39m=\u001b[39;49m \u001b[39mTrue\u001b[39;49;00m,\n\u001b[1;32m      4\u001b[0m                                                                     remove_extra_newlines \u001b[39m=\u001b[39;49m \u001b[39mTrue\u001b[39;49;00m,\n\u001b[1;32m      5\u001b[0m                                                                     remove_accented_char \u001b[39m=\u001b[39;49m \u001b[39mTrue\u001b[39;49;00m,\n\u001b[1;32m      6\u001b[0m                                                                     lemmatize \u001b[39m=\u001b[39;49m \u001b[39mTrue\u001b[39;49;00m,\n\u001b[1;32m      7\u001b[0m                                                                     remove_stopwords \u001b[39m=\u001b[39;49m \u001b[39mTrue\u001b[39;49;00m,\n\u001b[1;32m      8\u001b[0m                                                                     remove_non_alphabetic \u001b[39m=\u001b[39;49m \u001b[39mTrue\u001b[39;49;00m))\n",
      "Cell \u001b[0;32mIn [13], line 22\u001b[0m, in \u001b[0;36mnormalize\u001b[0;34m(text, remove_html, lowercase, lemmatize, remove_extra_newlines, remove_stopwords, remove_non_alphabetic, remove_accented_char)\u001b[0m\n\u001b[1;32m     20\u001b[0m \u001b[39m# lemmatize\u001b[39;00m\n\u001b[1;32m     21\u001b[0m \u001b[39mif\u001b[39;00m lemmatize:        \n\u001b[0;32m---> 22\u001b[0m     text \u001b[39m=\u001b[39m nlp(text)\n\u001b[1;32m     23\u001b[0m     text \u001b[39m=\u001b[39m \u001b[39m'\u001b[39m\u001b[39m \u001b[39m\u001b[39m'\u001b[39m\u001b[39m.\u001b[39mjoin([word\u001b[39m.\u001b[39mlemma_ \u001b[39mif\u001b[39;00m word\u001b[39m.\u001b[39mlemma_ \u001b[39m!=\u001b[39m \u001b[39m'\u001b[39m\u001b[39m-PRON-\u001b[39m\u001b[39m'\u001b[39m \u001b[39melse\u001b[39;00m word\u001b[39m.\u001b[39mtext \u001b[39mfor\u001b[39;00m word \u001b[39min\u001b[39;00m text])\n\u001b[1;32m     25\u001b[0m \u001b[39m# remove extra new lines    \u001b[39;00m\n",
      "\u001b[0;31mNameError\u001b[0m: name 'nlp' is not defined"
     ]
    }
   ],
   "source": [
    "df[\"full_normalization\"] = df.statement.apply(lambda x : normalize(x, \n",
    "                                                                    remove_html = True, \n",
    "                                                                    lowercase = True,\n",
    "                                                                    remove_extra_newlines = True,\n",
    "                                                                    remove_accented_char = True,\n",
    "                                                                    lemmatize = True,\n",
    "                                                                    remove_stopwords = True,\n",
    "                                                                    remove_non_alphabetic = True))"
   ]
  },
  {
   "cell_type": "code",
   "execution_count": 19,
   "metadata": {},
   "outputs": [
    {
     "data": {
      "text/html": [
       "<div>\n",
       "<style scoped>\n",
       "    .dataframe tbody tr th:only-of-type {\n",
       "        vertical-align: middle;\n",
       "    }\n",
       "\n",
       "    .dataframe tbody tr th {\n",
       "        vertical-align: top;\n",
       "    }\n",
       "\n",
       "    .dataframe thead th {\n",
       "        text-align: right;\n",
       "    }\n",
       "</style>\n",
       "<table border=\"1\" class=\"dataframe\">\n",
       "  <thead>\n",
       "    <tr style=\"text-align: right;\">\n",
       "      <th></th>\n",
       "      <th>veracity</th>\n",
       "      <th>statement</th>\n",
       "      <th>light_normalization</th>\n",
       "    </tr>\n",
       "  </thead>\n",
       "  <tbody>\n",
       "    <tr>\n",
       "      <th>10</th>\n",
       "      <td>False</td>\n",
       "      <td>\"Our courts find that 80 percent of those who do file for asylum aren’t qualified for it, do not merit that relief.\"</td>\n",
       "      <td>\"our courts find that 80 percent of those who do file for asylum arent qualified for it, do not merit that relief.\"</td>\n",
       "    </tr>\n",
       "  </tbody>\n",
       "</table>\n",
       "</div>"
      ],
      "text/plain": [
       "    veracity                                                                                                             statement                                                                                                  light_normalization\n",
       "10     False  \"Our courts find that 80 percent of those who do file for asylum aren’t qualified for it, do not merit that relief.\"  \"our courts find that 80 percent of those who do file for asylum arent qualified for it, do not merit that relief.\""
      ]
     },
     "execution_count": 19,
     "metadata": {},
     "output_type": "execute_result"
    }
   ],
   "source": [
    "df.head(1)"
   ]
  },
  {
   "cell_type": "markdown",
   "metadata": {},
   "source": [
    "# Bag of Words (BoW) Model: Vectorizing Text"
   ]
  },
  {
   "cell_type": "markdown",
   "metadata": {},
   "source": [
    "This is the process of turning text into a series of numbers (vectors) for machine learning models\n",
    "\n",
    "each word is mapped to its frequency as follows:\n",
    "\n",
    "step 1 - original sentence ->       NLP is amazing; truly NLP is amazing. \n",
    "\n",
    "step 2 - unique words arranged alphabetically -> amazing, is, NLP, truly\n",
    "\n",
    "step 3 - mapped to frequency ->     (2, 2, 2, 1)"
   ]
  },
  {
   "cell_type": "markdown",
   "metadata": {},
   "source": [
    "# Cell below this is a class I created for Binary Classification problems\n",
    "\n",
    "# Example Use:\n",
    "\n",
    "### models = Binary_Classification(x, y, standardize = True, scoring = \"roc_auc\")\n",
    "takes in x and y, standarizes all continuous columns, performs train_test_split (test_size = 0.3), and performs GridSearchCV on train (n_folds = 5); the metric to evaluate models against will be roc_auc in this case\n",
    "\n",
    "### models.compare()\n",
    "will compare several models against one another and compute best parameters for each model\n",
    "\n",
    "models compared: logistic regression, k-nearest neighbor, gaussian naive bayes, multi nomial naive bayes, random forest, and if desired xtreme gradient boosting (usually takes more than 5 minutes to run so it has been commented out)\n",
    "\n",
    "### models.test_scores(\"ran_for\", verbose_results = False)\n",
    "will compute f1, accuracy, and roc_auc score for training and test data using model given (in this case using random forest); verbose_results set to True will generate more details of the results\n",
    "\n",
    "### models.permutation_importance(\"ran_for\")\n",
    "will determine which features are most important to the model. \"The permutation feature importance is defined to be the decrease in a model score when a single feature value is randomly shuffled.\" (https://scikit-learn.org/dev/modules/permutation_importance.html) Permutation importances is computed on the held-out validation set, because \"a held-out set makes it possible to highlight which features contribute the most to the generalization power of the inspected model. Features that are important on the training set but not on the held-out set might cause the model to overfit.\" (same source)\n",
    "\n",
    "see also: https://www.kaggle.com/dansbecker/permutation-importance"
   ]
  },
  {
   "cell_type": "code",
   "execution_count": 20,
   "metadata": {},
   "outputs": [],
   "source": [
    "class Binary_Classification:\n",
    "    def __init__(self, \n",
    "                 x = None, \n",
    "                 y = None, \n",
    "                 scoring = None, \n",
    "                 test_size = 0.3, \n",
    "                 n_folds = 3, \n",
    "                 standardize = False,\n",
    "                 nlp = False,\n",
    "                 vectorizer = None): \n",
    "        \n",
    "        self.x = x # features as df\n",
    "        self.y = y # target as df\n",
    "        self.scoring = scoring # example: \"accuracy\", \"f1\", \"roc_auc\"\n",
    "        self.test_size = test_size # set to .3 by default\n",
    "        self.n_folds = n_folds # set to 5 by default\n",
    "        self.standardize = standardize\n",
    "        self.x_train, self.x_test, self.y_train, self.y_test = \\\n",
    "        train_test_split(self.x, \n",
    "                         self.y, \n",
    "                         test_size = self.test_size, \n",
    "                         random_state = 0)\n",
    "        if nlp:\n",
    "            self.x_train = vectorizer.fit_transform(self.x_train)\n",
    "            self.x_test = vectorizer.transform(self.x_test)\n",
    "    \n",
    "    \"\"\" \n",
    "    .examine_model attribute has two functions within it:\n",
    "    (1) model_and_grid => using a model's name, it returns the model with cvgrid\n",
    "    (2) best_model => using model_and_grid, finds best hyperparameters for model\n",
    "    \"\"\"\n",
    "    \n",
    "    def examine_model(self, model_name):\n",
    "        \n",
    "        def model_and_grid(model_name):\n",
    "            if model_name == \"log_reg\":\n",
    "                model = LogisticRegression()\n",
    "                grid = {'C' : [0.001, 0.1, 1, 10, 100]}\n",
    "                return model, grid\n",
    "\n",
    "            elif model_name == \"knn\":\n",
    "                model = KNeighborsClassifier()\n",
    "                grid = {\"n_neighbors\" : [3,6,9,12]}\n",
    "                return model, grid\n",
    "            \n",
    "            elif model_name == \"gnb\":\n",
    "                model = GaussianNB()\n",
    "                grid = {\"var_smoothing\" : [1e-01, 1e-05, 1e-09, 1e-15]}\n",
    "                return model, grid\n",
    "            \n",
    "            elif model_name == \"mnb\":\n",
    "                model = MultinomialNB()\n",
    "                grid = {\"alpha\" : [.1, 1, 5, 10, 50]}\n",
    "                return model, grid\n",
    "            \n",
    "            elif model_name == \"ran_for\":\n",
    "                model = RandomForestClassifier(random_state=0)\n",
    "                grid = {'n_estimators' : [1, 30], \n",
    "                        'max_features' : ['auto', 'log2'],  \n",
    "                        'max_depth' : [ 3, 5, 7, 10, 12, 15], \n",
    "                        'criterion' : ['gini', 'entropy']}\n",
    "                return model, grid\n",
    "\n",
    "            elif model_name == \"xgb\":\n",
    "                model = XGBClassifier()\n",
    "                grid = { \n",
    "                          \"max_depth\"         : [2, 4, 8, 16],\n",
    "                          \"alpha\"             : [10, 20, 30],\n",
    "                          \"lambda\"            : [10, 20, 30],\n",
    "        #                  \"min_child_weight\" : [  1,  5],\n",
    "        #                  \"colsample_bytree\" : [ .3, .7],\n",
    "        #                  \"learning_rate\"    : [.10, .30],\n",
    "        #                  \"gamma\"            : [  0, .5, 5],\n",
    "        #                  \"eta\"              : [0.05, 0.20]\n",
    "                }  \n",
    "                return model, grid\n",
    "        \n",
    "        def best_model(model, grid):\n",
    "            gs = GridSearchCV(model, param_grid=grid, cv=self.n_folds, scoring=self.scoring)\n",
    "            gs.fit(self.x_train, self.y_train.iloc[:,0])\n",
    "            print(\"CV \" + self.scoring.upper() + \" SCORE:\", round(gs.best_score_, 2))\n",
    "            print(\"CV PARAMS: \", gs.best_params_)\n",
    "            #print(\"BEST MODEL: \", gs.best_estimator_)\n",
    "            best_model = gs.best_estimator_\n",
    "            return best_model\n",
    "\n",
    "        model, grid = model_and_grid(model_name)\n",
    "        best_mod = best_model(model, grid)\n",
    "        return best_mod\n",
    "\n",
    "    \"\"\" \n",
    "    .compare attribute uses examine_model to compare all models\n",
    "    \"\"\"\n",
    "    \n",
    "    def compare(self):\n",
    "        z = 0\n",
    "        mods = [\"log_reg\", \n",
    "                #\"knn\", \n",
    "                #\"gnb\", \n",
    "                \"mnb\", \n",
    "                \"ran_for\",\n",
    "                #\"xgb\"\n",
    "               ]\n",
    "        for name in mods:\n",
    "            print(\"*** \" + mods[z] + \" ***\")\n",
    "            self.examine_model(name)\n",
    "            print(\"\")\n",
    "            z += 1\n",
    "    \n",
    "    \"\"\" \n",
    "    .test_scores attribute uses examine_model to report various metrics on training & test data\n",
    "    \"\"\"\n",
    "    \n",
    "    def test_scores(self, \n",
    "                    model_name = None, \n",
    "                    verbose_results = False, \n",
    "                    all_metrics = True): \n",
    "        model = self.examine_model(model_name)\n",
    "        y_pred_train = model.predict(self.x_train)\n",
    "        y_pred_test = model.predict(self.x_test)\n",
    "        y_prob_train = model.predict_proba(self.x_train)[:,1]\n",
    "        y_prob_test = model.predict_proba(self.x_test)[:,1]\n",
    "        \n",
    "        print()\n",
    "        \"\"\" Accuracy \"\"\"\n",
    "        ## number of correct predictions made / total number of predictions made\n",
    "        ### accuracy is not a good metric for imbalanced data\n",
    "        if self.scoring == \"accuracy\" or all_metrics:\n",
    "            accuracy_training = model.score(self.x_train, self.y_train)\n",
    "            tru_count_train = Counter(self.y_train.iloc[:,0])[True]\n",
    "            fal_count_train = Counter(self.y_train.iloc[:,0])[False]\n",
    "\n",
    "            # test baseline\n",
    "#             print(\"chance of true in training (baseline): \", \n",
    "#                   round(tru_count_train/(tru_count_train + fal_count_train),2))\n",
    "#             print(\"chance of false in training (baseline): \", \n",
    "#                   round(fal_count_train/(tru_count_train + fal_count_train),2))\n",
    "            \n",
    "#             print(\"Accuracy on training data: {:0.2f}\".format(accuracy_training))\n",
    "#             print()\n",
    "\n",
    "            accuracy_test = model.score(self.x_test, self.y_test)\n",
    "            tru_count_test = Counter(self.y_test.iloc[:,0])[True]\n",
    "            fal_count_test = Counter(self.y_test.iloc[:,0])[False]\n",
    "\n",
    "            # test baseline\n",
    "#                 print(\"chance of true in test (baseline): \", \n",
    "#                       round(tru_count_test/(tru_count_test + fal_count_test),2))\n",
    "#                 print(\"chance of false in test (baseline): \", \n",
    "#                       round(fal_count_test/(tru_count_test + fal_count_test),2))\n",
    "\n",
    "            print(\"Accuracy on test data: {:0.2f}\".format(accuracy_test))\n",
    "            print()\n",
    "\n",
    "        \"\"\" ROC AUC \"\"\"\n",
    "        ## How well model distinguishs between classes\n",
    "        ### Higher the AUC, better the model is at predicting 0 as 0 and 1 as 1\n",
    "        #### https://towardsdatascience.com/understanding-auc-roc-curve-68b2303cc9c5\n",
    "        if self.scoring == \"roc_auc\" or all_metrics:\n",
    "            roc_auc_score_training = roc_auc_score(self.y_train.iloc[:,0], y_prob_train)\n",
    "#             print(\"ROC AUC on training data:{:0.2f}\".format(roc_auc_score_training))\n",
    "\n",
    "            roc_auc_score_test = roc_auc_score(self.y_test.iloc[:,0], y_prob_test)\n",
    "            print(\"ROC AUC on test data: {:0.2f}\\n\".format(roc_auc_score_test))\n",
    "                \n",
    "        \"\"\" F1 (f-one) Score \"\"\"\n",
    "        ## F1 Score = 2*((precision*recall)/(precision+recall))\n",
    "        if self.scoring == \"f1\" or all_metrics:\n",
    "            f1_train = metrics.f1_score(self.y_train.iloc[:,0], y_pred_train)\n",
    "#             print(\"F1 on training data:{:0.2f}\".format(f1_train))\n",
    "\n",
    "            f1_test = metrics.f1_score(self.y_test.iloc[:,0], y_pred_test)\n",
    "            print(\"F1 on test data: {:0.2f}\".format(f1_test))\n",
    "            print()\n",
    "\n",
    "        \"\"\" Classification Report \"\"\"\n",
    "        ## Precision = TP / TP + FP\n",
    "        ## Recall = TP/ TP + FN\n",
    "        class_repo = classification_report(self.y_test,y_pred_test)\n",
    "        print(\"Classification Report on test data:\\n\", class_repo)\n",
    "            \n",
    "        \"\"\" Confusion matrix \"\"\"\n",
    "        def print_confusion_matrix(confusion_matrix, \n",
    "                           class_names,\n",
    "                           #figsize = (2,2), fontsize=20\n",
    "                          ):\n",
    "    \n",
    "            \"\"\"Prints a confusion matrix, as returned by sklearn.metrics.confusion_matrix, as a heatmap.\n",
    "            2 benefits: (1) mieruka (i.e., visual control) and \n",
    "            (2) colors change depending on values (larger values generate darker colors)\n",
    "            \n",
    "            if you're wondering what mieruka is: \n",
    "            https://harishsnotebook.wordpress.com/2016/05/05/visibilization-crime-fighting-magic-and-mieruka/\n",
    "\n",
    "            Arguments\n",
    "            ---------\n",
    "            confusion_matrix: numpy.ndarray\n",
    "                The numpy.ndarray object returned from a call to sklearn.metrics.confusion_matrix. \n",
    "                Similarly constructed ndarrays can also be used.\n",
    "            class_names: list\n",
    "                An ordered list of class names, in the order they index the given confusion matrix.\n",
    "            figsize: tuple\n",
    "                A 2-long tuple, the first value determining the horizontal size of the ouputted figure,\n",
    "                the second determining the vertical size. Defaults to (10,7).\n",
    "            fontsize: int\n",
    "                Font size for axes labels. Defaults to 14.\n",
    "\n",
    "            Returns\n",
    "            -------\n",
    "            matplotlib.figure.Figure\n",
    "                The resulting confusion matrix figure\n",
    "            \"\"\"\n",
    "\n",
    "            df_cm = pd.DataFrame(\n",
    "                confusion_matrix, \n",
    "                index=class_names, \n",
    "                columns=class_names, \n",
    "            )\n",
    "\n",
    "            fig = plt.figure(#figsize=figsize\n",
    "            )\n",
    "\n",
    "            try:\n",
    "                heatmap = sns.heatmap(df_cm, \n",
    "                                      annot=True, \n",
    "                                      fmt=\"d\", \n",
    "                                      cbar=False, \n",
    "                                      cmap=\"YlGnBu\")\n",
    "            except ValueError:\n",
    "                raise ValueError(\"Confusion matrix values must be integers.\")\n",
    "\n",
    "                heatmap.yaxis.set_ticklabels(heatmap.yaxis.get_ticklabels(), \n",
    "                                             rotation=0, \n",
    "                                             ha='right', \n",
    "                                             #fontsize=fontsize\n",
    "                                            )\n",
    "\n",
    "                heatmap.xaxis.set_ticklabels(heatmap.xaxis.get_ticklabels(), \n",
    "                                             rotation=45, \n",
    "                                             ha='right', \n",
    "                                             #fontsize=fontsize\n",
    "                                            )\n",
    "\n",
    "            plt.title('Test Confusion Matrix')\n",
    "            plt.ylabel('Correct label')\n",
    "            plt.xlabel('Predicted label')\n",
    "            \n",
    "        c_matrix = confusion_matrix(self.y_test, y_pred_test)\n",
    "        print_confusion_matrix(c_matrix, [False, True])\n",
    "        \n",
    "        if verbose_results:\n",
    "            #Plot ROC curve\n",
    "            fpr, tpr, thresholds = roc_curve(self.y_test, y_prob_test)\n",
    "            plt.plot([0, 1], [0, 1], 'k--')\n",
    "            plt.plot(fpr, tpr)\n",
    "            plt.xlabel('False Positive Rate')\n",
    "            plt.ylabel('True Positive Rate')\n",
    "            plt.title('ROC Curve')\n",
    "            plt.show()\n",
    "            print(\"\")    \n",
    "                \n",
    "            # Threshold Plot\n",
    "            precision, recall, thresholds = precision_recall_curve(self.y_test, y_prob_test)\n",
    "            f1 = []\n",
    "            acc = []\n",
    "            roc = []\n",
    "            avg_pr = []\n",
    "\n",
    "            def adjust_pred_prob(y_prob_test, new_threshold):\n",
    "                return [1 if prob >= new_threshold else 0 for prob in y_prob_test]\n",
    "\n",
    "            for t in thresholds:\n",
    "                adjusted_y_pred = adjust_pred_prob(y_prob_test, t)\n",
    "                add_f1 = metrics.f1_score(self.y_test, adjusted_y_pred)\n",
    "                f1.append(add_f1)\n",
    "                \n",
    "            for t in thresholds:\n",
    "                adjusted_y_pred = adjust_pred_prob(y_prob_test, t)\n",
    "                add_acc = accuracy_score(self.y_test, adjusted_y_pred)\n",
    "                acc.append(add_acc)\n",
    "                \n",
    "            for t in thresholds:\n",
    "                adjusted_y_pred = adjust_pred_prob(y_prob_test, t)\n",
    "                add_avg_pr = average_precision_score(self.y_test, adjusted_y_pred)\n",
    "                avg_pr.append(add_avg_pr)\n",
    "                \n",
    "#             ## Retrieve probability of being 1(in second column of probs_y)\n",
    "#             pr_auc = metrics.auc(recall, precision)\n",
    "\n",
    "            plt.title(\"Precision-Recall-Accuracy vs Threshold\")\n",
    "            plt.plot(thresholds, precision[: -1], \"b-\", label=\"Precision\")\n",
    "            plt.plot(thresholds, recall[: -1], \"r-\", label=\"Recall\")\n",
    "            #plt.plot(thresholds, avg_pr, \"k-\", label=\"Average Precision Recall\")\n",
    "            #plt.plot(thresholds, f1, \"k-\", label=\"F1_Score\")\n",
    "            plt.plot(thresholds, acc, \"g-\", label=\"Accuracy\")\n",
    "            \n",
    "            max_acc_x = thresholds[np.argmax(acc)]\n",
    "            plt.axvline(x=max_acc_x, ymin=0.00, ymax=max(acc), color='g', linestyle='-')\n",
    "            #plt.axhline(y=max(acc), color='g', linestyle='--')\n",
    "            #plt.text(max_acc_x, max(acc), (\"Max Accuracy \" + str(round(max_acc_x,2))), rotation=90)\n",
    "            \n",
    "            #max_f1_x = thresholds[np.argmax(f1)]\n",
    "            #plt.axvline(x=max_f1_x, color='k', linestyle='--')\n",
    "            #plt.axhline(y=max(f1), color='k', linestyle='--')\n",
    "            #plt.text(max_f1_x, max(f1), (\"Max F1 Score \" + str(round(max_f1_x,2))), rotation=90)\n",
    "                        \n",
    "            plt.ylabel(\"Score\")\n",
    "            plt.xlabel(\"Threshold\")\n",
    "            \n",
    "            #plt.text(intersect_x, intersect_y, 'PR Intersect', rotation=90)\n",
    "            plt.legend(loc=\"lower left\")\n",
    "            plt.ylim([0,1])\n",
    "            plt.show()\n",
    "            print(\"Maximum Accuracy: \" + str(round(max(acc),2)) + \" @ Threshold: \" + str(round(max_acc_x,2)))\n",
    "            #print(\"Maximum F1 Score: \" + str(round(max(f1),2)) + \" @ Threshold: \" + str(round(max_f1_x,2)))\n",
    "            \n",
    "            \"\"\" \n",
    "            Varying Fscore's beta vs Varying Thresholds\n",
    "            \n",
    "            The beta parameter determines the weight of recall in the combined score. \n",
    "            beta < 1 lends more weight to precision, while \n",
    "            beta > 1 favors recall \n",
    "            (beta -> 0 considers only precision, beta -> inf only recall).\n",
    "            \"\"\"\n",
    "\n",
    "            f025 = []\n",
    "            f050 = []\n",
    "            f075 = []\n",
    "            f100 = []\n",
    "            f125 = []\n",
    "            f150 = []\n",
    "            f200 = []\n",
    "\n",
    "            def fbeta_testing(beta, fxxx):\n",
    "                for t in thresholds:\n",
    "                    adjusted_y_pred = adjust_pred_prob(y_prob_test, t)\n",
    "                    add_fbeta = metrics.fbeta_score(self.y_test, adjusted_y_pred, beta)\n",
    "                    fxxx.append(add_fbeta)\n",
    "\n",
    "            betas = [0.25, 0.50, 0.75, 1.00, 1.25, 1.50, 2.00]\n",
    "            flist = [f025, f050, f075, f100, f125, f150, f200]\n",
    "\n",
    "            z = 0\n",
    "            for beta in betas:\n",
    "                fbeta_testing(beta, flist[z])\n",
    "                z += 1\n",
    "\n",
    "            plt.title(\"F_Beta_Score vs Threshold: Varying Betas\")\n",
    "            #plt.plot(thresholds, f025, \"r-\", label=\"F0.25\")\n",
    "            plt.plot(thresholds, f050, \"m-\", label=\"F0.50\")\n",
    "            #plt.plot(thresholds, f075, \"g-\", label=\"F0.75\")\n",
    "            plt.plot(thresholds, f100, \"c-\", label=\"F1.00\")\n",
    "            #plt.plot(thresholds, f125, \"b-\", label=\"F1.25\")\n",
    "            #plt.plot(thresholds, f150, \"k-\", label=\"F1.50\")\n",
    "            plt.plot(thresholds, f200, \"y-\", label=\"F2.00\")\n",
    "            #plt.axvline(.425, color='k', linestyle='--')\n",
    "            #plt.axvline(.45, color='k', linestyle='-')\n",
    "            \n",
    "            max_f050_x = thresholds[np.argmax(f050)]\n",
    "            plt.axvline(x=max_f050_x, ymin=0.00, ymax=max(f050), color='m', linestyle='-')\n",
    "            max_f100_x = thresholds[np.argmax(f100)]\n",
    "            plt.axvline(x=max_f100_x,ymin=0.00, ymax=max(f100), color='c', linestyle='-')\n",
    "            max_f200_x = thresholds[np.argmax(f200)]\n",
    "            plt.axvline(x=max_f200_x, ymin=0.00, ymax=max(f200), color='y', linestyle='-')\n",
    "            \n",
    "            plt.ylabel(\"F_Beta_Score\")\n",
    "            plt.xlabel(\"Threshold\")\n",
    "            plt.legend(loc=\"lower left\")\n",
    "            plt.ylim([0,1])\n",
    "            plt.show()\n",
    "            \n",
    "            print(\"Maximum F0.5 Score: \" + str(round(max(f050),2)) + \" @ Threshold: \" + str(round(max_f050_x,2)))\n",
    "            print(\"Maximum F1   Score: \" + str(round(max(f100),2)) + \" @ Threshold: \" + str(round(max_f100_x,2)))\n",
    "            print(\"Maximum F2.0 Score: \" + str(round(max(f200),2)) + \" @ Threshold: \" + str(round(max_f200_x,2)))\n",
    "\n",
    "            \"\"\" Threshold = 0.5, varying fscore's beta \"\"\"\n",
    "\n",
    "            betas = [0.25,0.50,0.75,1.00,1.25,1.50,2.00]\n",
    "            fbetas = []\n",
    "\n",
    "            for beta in betas:\n",
    "                score = fbeta_score(self.y_test, y_pred_test, beta=beta)\n",
    "                fbetas.append(score)\n",
    "        \n",
    "    def feature_importance(self, model_name): \n",
    "        model = self.examine_model(model_name)\n",
    "        fitted = model.fit(self.x_train, self.y_train.iloc[:,0])\n",
    "        \n",
    "        importances = fitted.feature_importances_\n",
    "        indices = np.argsort(importances)\n",
    "        features = self.x_train.columns\n",
    "        plt.title('Feature Importances')\n",
    "        plt.barh(range(len(indices)), importances[indices], color='grey', align='center')\n",
    "        plt.yticks(range(len(indices)), [features[i] for i in indices])\n",
    "        plt.xlabel('Relative Importance')\n",
    "        plt.ylabel('Features')\n",
    "        plt.show()\n",
    "    \n",
    "    \"\"\" \n",
    "    .permutation_importance attribute uses examine_model to report features in order of importance\n",
    "    \"\"\"\n",
    "    def permutation_importance(self, model_name): \n",
    "        # https://www.kaggle.com/dansbecker/permutation-importance\n",
    "        model = self.examine_model(model_name)\n",
    "        fitted = model.fit(self.x_train, self.y_train.iloc[:,0])\n",
    "        \n",
    "        perm = PermutationImportance(fitted, random_state=0).fit(self.x_test, self.y_test.iloc[:,0])\n",
    "        return eli5.show_weights(perm, feature_names = self.x_test.columns.tolist())\n",
    "    \n",
    "    def shap_summary_plot(self, model_name): \n",
    "        \"\"\"Calculating SHAP values can be slow\"\"\"\n",
    "        # https://www.kaggle.com/dansbecker/advanced-uses-of-shap-values\n",
    "        \n",
    "        model = self.examine_model(model_name)\n",
    "        fitted = model.fit(self.x_train, self.y_train.iloc[:,0])\n",
    "        \n",
    "        if model_name == \"ran_for\":\n",
    "            explainer = shap.TreeExplainer(fitted)\n",
    "            shap_values = explainer.shap_values(self.x_test)\n",
    "            # we index in ([1]) to get the SHAP values for the prediction of \"True\"\n",
    "            return shap.summary_plot(shap_values[1], self.x_test)\n",
    "        \n",
    "        else:     \n",
    "            \"\"\" KernelExplainer cannot handle boolean values, they must be converted to int \"\"\"\n",
    "            x_train_summary = shap.kmeans(self.x_train, 3)\n",
    "            explainer = shap.KernelExplainer(fitted.predict, x_train_summary)\n",
    "            shap_values = explainer.shap_values(self.x_test)\n",
    "            return shap.summary_plot(shap_values, self.x_test)\n",
    "    \n",
    "    def coefficients(self, model_name):\n",
    "        model = self.examine_model(model_name)\n",
    "        try:\n",
    "            # Coefficients\n",
    "            coefs = pd.Series(model.coef_[0], index = self.x.columns)\n",
    "            coefs = coefs.sort_values()\n",
    "            coefs.plot(kind=\"bar\",title=(model_name.capitalize() + \" Coefficients\"))\n",
    "            plt.show()\n",
    "        except: \n",
    "            print()"
   ]
  },
  {
   "cell_type": "code",
   "execution_count": 21,
   "metadata": {},
   "outputs": [],
   "source": [
    "# For Aesthetics\n",
    "font = {'size' : 24}\n",
    "mpl.rc('font', **font)\n",
    "mpl.rcParams['figure.figsize'] = (3.0, 2.0) ### (→ , ↑) ###"
   ]
  },
  {
   "cell_type": "markdown",
   "metadata": {},
   "source": [
    "# Light Normalization * Bow Model * 3 Classifiers"
   ]
  },
  {
   "cell_type": "code",
   "execution_count": 22,
   "metadata": {},
   "outputs": [
    {
     "name": "stdout",
     "output_type": "stream",
     "text": [
      "*** log_reg ***\n",
      "CV ACCURACY SCORE: 0.58\n",
      "CV PARAMS:  {'C': 0.1}\n",
      "\n",
      "*** mnb ***\n",
      "CV ACCURACY SCORE: 0.59\n",
      "CV PARAMS:  {'alpha': 1}\n",
      "\n",
      "*** ran_for ***\n",
      "CV ACCURACY SCORE: 0.54\n",
      "CV PARAMS:  {'criterion': 'entropy', 'max_depth': 15, 'max_features': 'auto', 'n_estimators': 30}\n",
      "\n"
     ]
    }
   ],
   "source": [
    "models = Binary_Classification(x = df.light_normalization, \n",
    "                               y = df[[\"veracity\"]], \n",
    "                               scoring = \"accuracy\", \n",
    "                               test_size = 0.3, \n",
    "                               n_folds = 3, \n",
    "                               standardize = False,\n",
    "                               nlp = True,\n",
    "                               vectorizer = CountVectorizer(lowercase = False))\n",
    "                     \n",
    "models.compare()"
   ]
  },
  {
   "cell_type": "code",
   "execution_count": 23,
   "metadata": {},
   "outputs": [
    {
     "name": "stdout",
     "output_type": "stream",
     "text": [
      "CV ACCURACY SCORE: 0.58\n",
      "CV PARAMS:  {'C': 0.1}\n",
      "\n",
      "Accuracy on test data: 0.59\n",
      "\n",
      "Classification Report on test data:\n",
      "               precision    recall  f1-score   support\n",
      "\n",
      "       False       0.57      0.64      0.60       148\n",
      "        True       0.61      0.54      0.57       155\n",
      "\n",
      "    accuracy                           0.59       303\n",
      "   macro avg       0.59      0.59      0.59       303\n",
      "weighted avg       0.59      0.59      0.59       303\n",
      "\n"
     ]
    },
    {
     "data": {
      "image/png": "[encoded data removed]",
      "text/plain": [
       "<Figure size 300x200 with 1 Axes>"
      ]
     },
     "metadata": {},
     "output_type": "display_data"
    }
   ],
   "source": [
    "models.test_scores(model_name = \"log_reg\", \n",
    "                   verbose_results = False, \n",
    "                   all_metrics = False)"
   ]
  },
  {
   "cell_type": "markdown",
   "metadata": {},
   "source": [
    "# Logistic Regression is better at detecting truth than detecting deception: \n",
    "## deception detection: 49% accuracy -> (correctly predicted deception /  (correctly predicted deception + mispredicted deception))\n",
    "## truth detection: 58% accuracy"
   ]
  },
  {
   "cell_type": "code",
   "execution_count": 24,
   "metadata": {},
   "outputs": [
    {
     "name": "stdout",
     "output_type": "stream",
     "text": [
      "CV ACCURACY SCORE: 0.59\n",
      "CV PARAMS:  {'alpha': 1}\n",
      "\n",
      "Accuracy on test data: 0.60\n",
      "\n",
      "Classification Report on test data:\n",
      "               precision    recall  f1-score   support\n",
      "\n",
      "       False       0.61      0.49      0.55       148\n",
      "        True       0.59      0.70      0.64       155\n",
      "\n",
      "    accuracy                           0.60       303\n",
      "   macro avg       0.60      0.60      0.59       303\n",
      "weighted avg       0.60      0.60      0.60       303\n",
      "\n"
     ]
    },
    {
     "data": {
      "image/png": "[encoded data removed]",
      "text/plain": [
       "<Figure size 300x200 with 1 Axes>"
      ]
     },
     "metadata": {},
     "output_type": "display_data"
    }
   ],
   "source": [
    "models.test_scores(model_name = \"mnb\", \n",
    "                   verbose_results = False, \n",
    "                   all_metrics = False)"
   ]
  },
  {
   "cell_type": "markdown",
   "metadata": {},
   "source": [
    "# Multinomial Naive Bayes is much better at detecting truth and much worse at detecting deception: \n",
    "## deception detection: 39% accuracy -> (correctly predicted deception /  (correctly predicted deception + mispredicted deception))\n",
    "## truth detection: 69% accuracy"
   ]
  },
  {
   "cell_type": "markdown",
   "metadata": {},
   "source": [
    "# Full Normalization * Bow Model * 3 Classifiers"
   ]
  },
  {
   "cell_type": "code",
   "execution_count": 25,
   "metadata": {},
   "outputs": [
    {
     "ename": "AttributeError",
     "evalue": "'DataFrame' object has no attribute 'full_normalization'",
     "output_type": "error",
     "traceback": [
      "\u001b[0;31m---------------------------------------------------------------------------\u001b[0m",
      "\u001b[0;31mAttributeError\u001b[0m                            Traceback (most recent call last)",
      "Cell \u001b[0;32mIn [25], line 1\u001b[0m\n\u001b[0;32m----> 1\u001b[0m models \u001b[39m=\u001b[39m Binary_Classification(x \u001b[39m=\u001b[39m df\u001b[39m.\u001b[39;49mfull_normalization, \n\u001b[1;32m      2\u001b[0m                                y \u001b[39m=\u001b[39m df[[\u001b[39m\"\u001b[39m\u001b[39mveracity\u001b[39m\u001b[39m\"\u001b[39m]], \n\u001b[1;32m      3\u001b[0m                                scoring \u001b[39m=\u001b[39m \u001b[39m\"\u001b[39m\u001b[39maccuracy\u001b[39m\u001b[39m\"\u001b[39m, \n\u001b[1;32m      4\u001b[0m                                test_size \u001b[39m=\u001b[39m \u001b[39m0.3\u001b[39m, \n\u001b[1;32m      5\u001b[0m                                n_folds \u001b[39m=\u001b[39m \u001b[39m3\u001b[39m, \n\u001b[1;32m      6\u001b[0m                                standardize \u001b[39m=\u001b[39m \u001b[39mFalse\u001b[39;00m,\n\u001b[1;32m      7\u001b[0m                                nlp \u001b[39m=\u001b[39m \u001b[39mTrue\u001b[39;00m,\n\u001b[1;32m      8\u001b[0m                                vectorizer \u001b[39m=\u001b[39m CountVectorizer(lowercase \u001b[39m=\u001b[39m \u001b[39mFalse\u001b[39;00m))\n\u001b[1;32m     10\u001b[0m models\u001b[39m.\u001b[39mcompare()\n",
      "File \u001b[0;32m/Library/Frameworks/Python.framework/Versions/3.10/lib/python3.10/site-packages/pandas/core/generic.py:5907\u001b[0m, in \u001b[0;36mNDFrame.__getattr__\u001b[0;34m(self, name)\u001b[0m\n\u001b[1;32m   5900\u001b[0m \u001b[39mif\u001b[39;00m (\n\u001b[1;32m   5901\u001b[0m     name \u001b[39mnot\u001b[39;00m \u001b[39min\u001b[39;00m \u001b[39mself\u001b[39m\u001b[39m.\u001b[39m_internal_names_set\n\u001b[1;32m   5902\u001b[0m     \u001b[39mand\u001b[39;00m name \u001b[39mnot\u001b[39;00m \u001b[39min\u001b[39;00m \u001b[39mself\u001b[39m\u001b[39m.\u001b[39m_metadata\n\u001b[1;32m   5903\u001b[0m     \u001b[39mand\u001b[39;00m name \u001b[39mnot\u001b[39;00m \u001b[39min\u001b[39;00m \u001b[39mself\u001b[39m\u001b[39m.\u001b[39m_accessors\n\u001b[1;32m   5904\u001b[0m     \u001b[39mand\u001b[39;00m \u001b[39mself\u001b[39m\u001b[39m.\u001b[39m_info_axis\u001b[39m.\u001b[39m_can_hold_identifiers_and_holds_name(name)\n\u001b[1;32m   5905\u001b[0m ):\n\u001b[1;32m   5906\u001b[0m     \u001b[39mreturn\u001b[39;00m \u001b[39mself\u001b[39m[name]\n\u001b[0;32m-> 5907\u001b[0m \u001b[39mreturn\u001b[39;00m \u001b[39mobject\u001b[39;49m\u001b[39m.\u001b[39;49m\u001b[39m__getattribute__\u001b[39;49m(\u001b[39mself\u001b[39;49m, name)\n",
      "\u001b[0;31mAttributeError\u001b[0m: 'DataFrame' object has no attribute 'full_normalization'"
     ]
    }
   ],
   "source": [
    "models = Binary_Classification(x = df.full_normalization, \n",
    "                               y = df[[\"veracity\"]], \n",
    "                               scoring = \"accuracy\", \n",
    "                               test_size = 0.3, \n",
    "                               n_folds = 3, \n",
    "                               standardize = False,\n",
    "                               nlp = True,\n",
    "                               vectorizer = CountVectorizer(lowercase = False))\n",
    "                     \n",
    "models.compare()"
   ]
  },
  {
   "cell_type": "code",
   "execution_count": 20,
   "metadata": {},
   "outputs": [
    {
     "name": "stdout",
     "output_type": "stream",
     "text": [
      "CV ACCURACY SCORE: 0.59\n",
      "CV PARAMS:  {'C': 0.1}\n",
      "\n",
      "Accuracy on test data: 0.55\n",
      "\n",
      "Classification Report on test data:\n",
      "               precision    recall  f1-score   support\n",
      "\n",
      "       False       0.55      0.57      0.56       173\n",
      "        True       0.55      0.53      0.54       172\n",
      "\n",
      "   micro avg       0.55      0.55      0.55       345\n",
      "   macro avg       0.55      0.55      0.55       345\n",
      "weighted avg       0.55      0.55      0.55       345\n",
      "\n"
     ]
    },
    {
     "data": {
      "image/png": "[encoded data removed]",
      "text/plain": [
       "<Figure size 216x144 with 1 Axes>"
      ]
     },
     "metadata": {
      "needs_background": "light"
     },
     "output_type": "display_data"
    }
   ],
   "source": [
    "models.test_scores(model_name = \"log_reg\", \n",
    "                   verbose_results = False, \n",
    "                   all_metrics = False)"
   ]
  },
  {
   "cell_type": "code",
   "execution_count": 21,
   "metadata": {},
   "outputs": [
    {
     "name": "stdout",
     "output_type": "stream",
     "text": [
      "CV ACCURACY SCORE: 0.59\n",
      "CV PARAMS:  {'alpha': 1}\n",
      "\n",
      "Accuracy on test data: 0.56\n",
      "\n",
      "Classification Report on test data:\n",
      "               precision    recall  f1-score   support\n",
      "\n",
      "       False       0.57      0.47      0.52       173\n",
      "        True       0.55      0.65      0.59       172\n",
      "\n",
      "   micro avg       0.56      0.56      0.56       345\n",
      "   macro avg       0.56      0.56      0.56       345\n",
      "weighted avg       0.56      0.56      0.56       345\n",
      "\n"
     ]
    },
    {
     "data": {
      "image/png": "[encoded data removed]",
      "text/plain": [
       "<Figure size 216x144 with 1 Axes>"
      ]
     },
     "metadata": {
      "needs_background": "light"
     },
     "output_type": "display_data"
    }
   ],
   "source": [
    "models.test_scores(model_name = \"mnb\", \n",
    "                   verbose_results = False, \n",
    "                   all_metrics = False)"
   ]
  },
  {
   "cell_type": "markdown",
   "metadata": {},
   "source": [
    "# Again, Multinomial Naive Bayes is much better at detecting truth"
   ]
  },
  {
   "cell_type": "markdown",
   "metadata": {},
   "source": [
    "# BoW Model Summary\n",
    "## None of the models substantially outperform any other model; While full normalization tends to do worse on predicting the training data, it does marginally better on predicting the test data\n",
    "\n",
    "### BoW's weakness is that words lose context as they are analyzed independently and w/o order"
   ]
  },
  {
   "cell_type": "markdown",
   "metadata": {},
   "source": [
    "# n-gram model\n",
    "### n-gram models attempt to make up for Bow's independent treatment of words by giving them context (i.e., dependence)"
   ]
  },
  {
   "cell_type": "markdown",
   "metadata": {},
   "source": [
    "an n = 2 model example:\n",
    "\n",
    "step 1 - original sentence   : NLP is amazing; truly NLP is amazing. \n",
    "\n",
    "step 2 - n = 2 n-grammed     : NLP is, is amazing, amazing truly, truly NLP, NLP is (repeated), is amazing (repeated)\n",
    "\n",
    "step 3 - mapped to frequency : (2, 2, 1, 1)"
   ]
  },
  {
   "cell_type": "markdown",
   "metadata": {},
   "source": [
    "#### a bag of words model is simply n = 1"
   ]
  },
  {
   "cell_type": "markdown",
   "metadata": {},
   "source": [
    "in general, n >= 4 is not useful as\n",
    "n-grams of size 4+ are exceedingly rare\n",
    "\n",
    "source: https://www.datacamp.com/courses/feature-engineering-for-nlp-in-python"
   ]
  },
  {
   "cell_type": "markdown",
   "metadata": {},
   "source": [
    "# Light Normalization * N-gram Models (1-2 & 1-3) * 3 Classifiers"
   ]
  },
  {
   "cell_type": "code",
   "execution_count": 26,
   "metadata": {},
   "outputs": [
    {
     "name": "stdout",
     "output_type": "stream",
     "text": [
      "*** log_reg ***\n",
      "CV ACCURACY SCORE: 0.59\n",
      "CV PARAMS:  {'C': 0.1}\n",
      "\n",
      "*** mnb ***\n",
      "CV ACCURACY SCORE: 0.59\n",
      "CV PARAMS:  {'alpha': 1}\n",
      "\n",
      "*** ran_for ***\n",
      "CV ACCURACY SCORE: 0.57\n",
      "CV PARAMS:  {'criterion': 'entropy', 'max_depth': 10, 'max_features': 'auto', 'n_estimators': 30}\n",
      "\n"
     ]
    }
   ],
   "source": [
    "models = Binary_Classification(x = df.light_normalization, \n",
    "                               y = df[[\"veracity\"]], \n",
    "                               scoring = \"accuracy\", \n",
    "                               test_size = 0.3, \n",
    "                               n_folds = 3, \n",
    "                               standardize = False,\n",
    "                               nlp = True,\n",
    "                               vectorizer = CountVectorizer(lowercase = False, ngram_range = (1,2)))\n",
    "                     \n",
    "models.compare()"
   ]
  },
  {
   "cell_type": "code",
   "execution_count": 27,
   "metadata": {},
   "outputs": [
    {
     "name": "stdout",
     "output_type": "stream",
     "text": [
      "CV ACCURACY SCORE: 0.59\n",
      "CV PARAMS:  {'C': 0.1}\n",
      "\n",
      "Accuracy on test data: 0.56\n",
      "\n",
      "Classification Report on test data:\n",
      "               precision    recall  f1-score   support\n",
      "\n",
      "       False       0.55      0.58      0.56       148\n",
      "        True       0.58      0.54      0.56       155\n",
      "\n",
      "    accuracy                           0.56       303\n",
      "   macro avg       0.56      0.56      0.56       303\n",
      "weighted avg       0.56      0.56      0.56       303\n",
      "\n"
     ]
    },
    {
     "data": {
      "image/png": "[encoded data removed]",
      "text/plain": [
       "<Figure size 300x200 with 1 Axes>"
      ]
     },
     "metadata": {},
     "output_type": "display_data"
    }
   ],
   "source": [
    "models.test_scores(model_name = \"log_reg\", \n",
    "                   verbose_results = False, \n",
    "                   all_metrics = False)"
   ]
  },
  {
   "cell_type": "markdown",
   "metadata": {},
   "source": [
    "# Logistic Regression seems adept at detecting both deception and truth with equal accuracy"
   ]
  },
  {
   "cell_type": "code",
   "execution_count": 28,
   "metadata": {},
   "outputs": [
    {
     "name": "stdout",
     "output_type": "stream",
     "text": [
      "CV ACCURACY SCORE: 0.59\n",
      "CV PARAMS:  {'alpha': 1}\n",
      "\n",
      "Accuracy on test data: 0.57\n",
      "\n",
      "Classification Report on test data:\n",
      "               precision    recall  f1-score   support\n",
      "\n",
      "       False       0.58      0.45      0.51       148\n",
      "        True       0.57      0.69      0.62       155\n",
      "\n",
      "    accuracy                           0.57       303\n",
      "   macro avg       0.58      0.57      0.57       303\n",
      "weighted avg       0.58      0.57      0.57       303\n",
      "\n"
     ]
    },
    {
     "data": {
      "image/png": "[encoded data removed]",
      "text/plain": [
       "<Figure size 300x200 with 1 Axes>"
      ]
     },
     "metadata": {},
     "output_type": "display_data"
    }
   ],
   "source": [
    "models.test_scores(model_name = \"mnb\", \n",
    "                   verbose_results = False, \n",
    "                   all_metrics = False)"
   ]
  },
  {
   "cell_type": "markdown",
   "metadata": {},
   "source": [
    "# Again, Multinomial Naive Bayes seems a good candidate when detecting innocence is more important"
   ]
  },
  {
   "cell_type": "code",
   "execution_count": 29,
   "metadata": {},
   "outputs": [
    {
     "name": "stdout",
     "output_type": "stream",
     "text": [
      "*** log_reg ***\n",
      "CV ACCURACY SCORE: 0.6\n",
      "CV PARAMS:  {'C': 0.1}\n",
      "\n",
      "*** mnb ***\n",
      "CV ACCURACY SCORE: 0.58\n",
      "CV PARAMS:  {'alpha': 5}\n",
      "\n",
      "*** ran_for ***\n",
      "CV ACCURACY SCORE: 0.57\n",
      "CV PARAMS:  {'criterion': 'entropy', 'max_depth': 12, 'max_features': 'auto', 'n_estimators': 30}\n",
      "\n"
     ]
    }
   ],
   "source": [
    "models = Binary_Classification(x = df.light_normalization, \n",
    "                               y = df[[\"veracity\"]], \n",
    "                               scoring = \"accuracy\", \n",
    "                               test_size = 0.3, \n",
    "                               n_folds = 3, \n",
    "                               standardize = False,\n",
    "                               nlp = True,\n",
    "                               vectorizer = CountVectorizer(lowercase = False, ngram_range = (1,3)))\n",
    "                     \n",
    "models.compare()"
   ]
  },
  {
   "cell_type": "code",
   "execution_count": 30,
   "metadata": {
    "scrolled": false
   },
   "outputs": [
    {
     "name": "stdout",
     "output_type": "stream",
     "text": [
      "CV ACCURACY SCORE: 0.58\n",
      "CV PARAMS:  {'alpha': 5}\n",
      "\n",
      "Accuracy on test data: 0.58\n",
      "\n",
      "Classification Report on test data:\n",
      "               precision    recall  f1-score   support\n",
      "\n",
      "       False       0.63      0.32      0.43       148\n",
      "        True       0.56      0.82      0.66       155\n",
      "\n",
      "    accuracy                           0.58       303\n",
      "   macro avg       0.60      0.57      0.55       303\n",
      "weighted avg       0.59      0.58      0.55       303\n",
      "\n"
     ]
    },
    {
     "data": {
      "image/png": "[encoded data removed]",
      "text/plain": [
       "<Figure size 300x200 with 1 Axes>"
      ]
     },
     "metadata": {},
     "output_type": "display_data"
    }
   ],
   "source": [
    "models.test_scores(model_name = \"mnb\", \n",
    "                   verbose_results = False, \n",
    "                   all_metrics = False)"
   ]
  },
  {
   "cell_type": "markdown",
   "metadata": {},
   "source": [
    "# Full Normalization * N-gram Models (1-2 & 1-3) * 3 Classifiers"
   ]
  },
  {
   "cell_type": "code",
   "execution_count": 27,
   "metadata": {},
   "outputs": [
    {
     "name": "stdout",
     "output_type": "stream",
     "text": [
      "*** log_reg ***\n",
      "CV ACCURACY SCORE: 0.59\n",
      "CV PARAMS:  {'C': 0.001}\n",
      "\n",
      "*** mnb ***\n",
      "CV ACCURACY SCORE: 0.58\n",
      "CV PARAMS:  {'alpha': 5}\n",
      "\n",
      "*** ran_for ***\n",
      "CV ACCURACY SCORE: 0.56\n",
      "CV PARAMS:  {'criterion': 'gini', 'max_depth': 10, 'max_features': 'auto', 'n_estimators': 30}\n",
      "\n"
     ]
    }
   ],
   "source": [
    "models = Binary_Classification(x = df.full_normalization, \n",
    "                               y = df[[\"veracity\"]], \n",
    "                               scoring = \"accuracy\", \n",
    "                               test_size = 0.3, \n",
    "                               n_folds = 3, \n",
    "                               standardize = False,\n",
    "                               nlp = True,\n",
    "                               vectorizer = CountVectorizer(lowercase = False, ngram_range = (1,2)))\n",
    "                     \n",
    "models.compare()"
   ]
  },
  {
   "cell_type": "code",
   "execution_count": 28,
   "metadata": {},
   "outputs": [
    {
     "name": "stdout",
     "output_type": "stream",
     "text": [
      "CV ACCURACY SCORE: 0.59\n",
      "CV PARAMS:  {'C': 0.001}\n",
      "\n",
      "Accuracy on test data: 0.54\n",
      "\n",
      "Classification Report on test data:\n",
      "               precision    recall  f1-score   support\n",
      "\n",
      "       False       0.54      0.52      0.53       173\n",
      "        True       0.54      0.56      0.55       172\n",
      "\n",
      "   micro avg       0.54      0.54      0.54       345\n",
      "   macro avg       0.54      0.54      0.54       345\n",
      "weighted avg       0.54      0.54      0.54       345\n",
      "\n"
     ]
    },
    {
     "data": {
      "image/png": "[encoded data removed]",
      "text/plain": [
       "<Figure size 216x144 with 1 Axes>"
      ]
     },
     "metadata": {
      "needs_background": "light"
     },
     "output_type": "display_data"
    }
   ],
   "source": [
    "models.test_scores(model_name = \"log_reg\", \n",
    "                   verbose_results = False, \n",
    "                   all_metrics = False)"
   ]
  },
  {
   "cell_type": "code",
   "execution_count": 29,
   "metadata": {},
   "outputs": [
    {
     "name": "stdout",
     "output_type": "stream",
     "text": [
      "*** log_reg ***\n",
      "CV ACCURACY SCORE: 0.59\n",
      "CV PARAMS:  {'C': 1}\n",
      "\n",
      "*** mnb ***\n",
      "CV ACCURACY SCORE: 0.59\n",
      "CV PARAMS:  {'alpha': 10}\n",
      "\n",
      "*** ran_for ***\n",
      "CV ACCURACY SCORE: 0.56\n",
      "CV PARAMS:  {'criterion': 'gini', 'max_depth': 15, 'max_features': 'auto', 'n_estimators': 30}\n",
      "\n"
     ]
    }
   ],
   "source": [
    "models = Binary_Classification(x = df.full_normalization, \n",
    "                               y = df[[\"veracity\"]], \n",
    "                               scoring = \"accuracy\", \n",
    "                               test_size = 0.3, \n",
    "                               n_folds = 3, \n",
    "                               standardize = False,\n",
    "                               nlp = True,\n",
    "                               vectorizer = CountVectorizer(lowercase = False, ngram_range = (1,3)))\n",
    "                     \n",
    "models.compare()"
   ]
  },
  {
   "cell_type": "code",
   "execution_count": 30,
   "metadata": {},
   "outputs": [
    {
     "name": "stdout",
     "output_type": "stream",
     "text": [
      "CV ACCURACY SCORE: 0.59\n",
      "CV PARAMS:  {'C': 1}\n",
      "\n",
      "Accuracy on test data: 0.56\n",
      "\n",
      "Classification Report on test data:\n",
      "               precision    recall  f1-score   support\n",
      "\n",
      "       False       0.56      0.55      0.56       173\n",
      "        True       0.56      0.57      0.56       172\n",
      "\n",
      "   micro avg       0.56      0.56      0.56       345\n",
      "   macro avg       0.56      0.56      0.56       345\n",
      "weighted avg       0.56      0.56      0.56       345\n",
      "\n"
     ]
    },
    {
     "data": {
      "image/png": "[encoded data removed]",
      "text/plain": [
       "<Figure size 216x144 with 1 Axes>"
      ]
     },
     "metadata": {
      "needs_background": "light"
     },
     "output_type": "display_data"
    }
   ],
   "source": [
    "models.test_scores(model_name = \"log_reg\", \n",
    "                   verbose_results = False, \n",
    "                   all_metrics = False)"
   ]
  },
  {
   "cell_type": "code",
   "execution_count": 31,
   "metadata": {},
   "outputs": [
    {
     "name": "stdout",
     "output_type": "stream",
     "text": [
      "CV ACCURACY SCORE: 0.59\n",
      "CV PARAMS:  {'alpha': 10}\n",
      "\n",
      "Accuracy on test data: 0.55\n",
      "\n",
      "Classification Report on test data:\n",
      "               precision    recall  f1-score   support\n",
      "\n",
      "       False       0.58      0.41      0.48       173\n",
      "        True       0.54      0.70      0.61       172\n",
      "\n",
      "   micro avg       0.55      0.55      0.55       345\n",
      "   macro avg       0.56      0.55      0.54       345\n",
      "weighted avg       0.56      0.55      0.54       345\n",
      "\n"
     ]
    },
    {
     "data": {
      "image/png": "[encoded data removed]",
      "text/plain": [
       "<Figure size 216x144 with 1 Axes>"
      ]
     },
     "metadata": {
      "needs_background": "light"
     },
     "output_type": "display_data"
    }
   ],
   "source": [
    "models.test_scores(model_name = \"mnb\", \n",
    "                   verbose_results = False, \n",
    "                   all_metrics = False)"
   ]
  },
  {
   "cell_type": "markdown",
   "metadata": {},
   "source": [
    "# n-gram Model Summary\n",
    "### again no model greatly outperformed any other; full normalization performs worse on training and test prediction for n-gram sizes 1-2 and 1-3"
   ]
  },
  {
   "cell_type": "markdown",
   "metadata": {},
   "source": [
    "# Term Frequency-Inverse Document Frequency (tf-idf) model"
   ]
  },
  {
   "cell_type": "markdown",
   "metadata": {},
   "source": [
    "Terms given score based on: \n",
    "\n",
    "(1) frequency in single text and \n",
    "\n",
    "(2) frequency in all texts"
   ]
  },
  {
   "cell_type": "code",
   "execution_count": 31,
   "metadata": {},
   "outputs": [
    {
     "name": "stdout",
     "output_type": "stream",
     "text": [
      "*** log_reg ***\n",
      "CV ACCURACY SCORE: 0.59\n",
      "CV PARAMS:  {'C': 100}\n",
      "\n",
      "*** mnb ***\n",
      "CV ACCURACY SCORE: 0.58\n",
      "CV PARAMS:  {'alpha': 1}\n",
      "\n",
      "*** ran_for ***\n",
      "CV ACCURACY SCORE: 0.56\n",
      "CV PARAMS:  {'criterion': 'gini', 'max_depth': 7, 'max_features': 'auto', 'n_estimators': 30}\n",
      "\n"
     ]
    }
   ],
   "source": [
    "models = Binary_Classification(x = df.light_normalization, \n",
    "                               y = df[[\"veracity\"]], \n",
    "                               scoring = \"accuracy\", \n",
    "                               test_size = 0.3, \n",
    "                               n_folds = 3, \n",
    "                               standardize = False,\n",
    "                               nlp = True,\n",
    "                               vectorizer = TfidfVectorizer(lowercase = False, ngram_range = (1,2)))\n",
    "                     \n",
    "models.compare()"
   ]
  },
  {
   "cell_type": "code",
   "execution_count": 32,
   "metadata": {},
   "outputs": [
    {
     "name": "stdout",
     "output_type": "stream",
     "text": [
      "CV ACCURACY SCORE: 0.59\n",
      "CV PARAMS:  {'C': 100}\n",
      "\n",
      "Accuracy on test data: 0.59\n",
      "\n",
      "Classification Report on test data:\n",
      "               precision    recall  f1-score   support\n",
      "\n",
      "       False       0.59      0.53      0.56       148\n",
      "        True       0.59      0.65      0.62       155\n",
      "\n",
      "    accuracy                           0.59       303\n",
      "   macro avg       0.59      0.59      0.59       303\n",
      "weighted avg       0.59      0.59      0.59       303\n",
      "\n"
     ]
    },
    {
     "data": {
      "image/png": "[encoded data removed]",
      "text/plain": [
       "<Figure size 300x200 with 1 Axes>"
      ]
     },
     "metadata": {},
     "output_type": "display_data"
    }
   ],
   "source": [
    "models.test_scores(model_name = \"log_reg\", \n",
    "                   verbose_results = False, \n",
    "                   all_metrics = False)"
   ]
  },
  {
   "cell_type": "code",
   "execution_count": 53,
   "metadata": {},
   "outputs": [
    {
     "data": {
      "text/html": [
       "<div>\n",
       "<style scoped>\n",
       "    .dataframe tbody tr th:only-of-type {\n",
       "        vertical-align: middle;\n",
       "    }\n",
       "\n",
       "    .dataframe tbody tr th {\n",
       "        vertical-align: top;\n",
       "    }\n",
       "\n",
       "    .dataframe thead th {\n",
       "        text-align: right;\n",
       "    }\n",
       "</style>\n",
       "<table border=\"1\" class=\"dataframe\">\n",
       "  <thead>\n",
       "    <tr style=\"text-align: right;\">\n",
       "      <th></th>\n",
       "      <th>veracity</th>\n",
       "      <th>statement</th>\n",
       "      <th>light_normalization</th>\n",
       "    </tr>\n",
       "  </thead>\n",
       "  <tbody>\n",
       "    <tr>\n",
       "      <th>10</th>\n",
       "      <td>False</td>\n",
       "      <td>\"Our courts find that 80 percent of those who do file for asylum aren’t qualified for it, do not merit that relief.\"</td>\n",
       "      <td>\"our courts find that 80 percent of those who do file for asylum arent qualified for it, do not merit that relief.\"</td>\n",
       "    </tr>\n",
       "    <tr>\n",
       "      <th>23</th>\n",
       "      <td>True</td>\n",
       "      <td>\"Migrant mother and ‘crying girl’ on Time cover never separated.\"</td>\n",
       "      <td>\"migrant mother and crying girl on time cover never separated.\"</td>\n",
       "    </tr>\n",
       "    <tr>\n",
       "      <th>35</th>\n",
       "      <td>True</td>\n",
       "      <td>\"Under Emanuel, CPS has become the most understaffed school district in Illinois.\"</td>\n",
       "      <td>\"under emanuel, cps has become the most understaffed school district in illinois.\"</td>\n",
       "    </tr>\n",
       "    <tr>\n",
       "      <th>54</th>\n",
       "      <td>False</td>\n",
       "      <td>\"Our courts find that 80 percent of those who do file for asylum aren’t qualified for it, do not merit that relief.\"</td>\n",
       "      <td>\"our courts find that 80 percent of those who do file for asylum arent qualified for it, do not merit that relief.\"</td>\n",
       "    </tr>\n",
       "    <tr>\n",
       "      <th>68</th>\n",
       "      <td>False</td>\n",
       "      <td>\"Facebook picks sides in Alabama Senate race ... shuts down Gateway Pundit and Breitbart reports on discredited Allred accuser\"</td>\n",
       "      <td>\"facebook picks sides in alabama senate race ... shuts down gateway pundit and breitbart reports on discredited allred accuser\"</td>\n",
       "    </tr>\n",
       "    <tr>\n",
       "      <th>...</th>\n",
       "      <td>...</td>\n",
       "      <td>...</td>\n",
       "      <td>...</td>\n",
       "    </tr>\n",
       "    <tr>\n",
       "      <th>14175</th>\n",
       "      <td>True</td>\n",
       "      <td>\"Currently, we're at 36 percent of our children born out of wedlock.\"</td>\n",
       "      <td>\"currently, we're at 36 percent of our children born out of wedlock.\"</td>\n",
       "    </tr>\n",
       "    <tr>\n",
       "      <th>14200</th>\n",
       "      <td>True</td>\n",
       "      <td>\"I'm for a three-state political solution in Iraq. (Romney) is not.\"</td>\n",
       "      <td>\"i'm for a three-state political solution in iraq. (romney) is not.\"</td>\n",
       "    </tr>\n",
       "    <tr>\n",
       "      <th>14204</th>\n",
       "      <td>False</td>\n",
       "      <td>\"For every single scientist that tells you (global warming is) happening and that it's our fault...I can stack up another group of reports that say just the opposite.\"</td>\n",
       "      <td>\"for every single scientist that tells you (global warming is) happening and that it's our fault...i can stack up another group of reports that say just the opposite.\"</td>\n",
       "    </tr>\n",
       "    <tr>\n",
       "      <th>14207</th>\n",
       "      <td>True</td>\n",
       "      <td>\"Tommy Thompson is the father of welfare reform, creating the groundbreaking Wisconsin Works program in Wisconsin that became the model for national and international reforms.\"</td>\n",
       "      <td>\"tommy thompson is the father of welfare reform, creating the groundbreaking wisconsin works program in wisconsin that became the model for national and international reforms.\"</td>\n",
       "    </tr>\n",
       "    <tr>\n",
       "      <th>14208</th>\n",
       "      <td>True</td>\n",
       "      <td>\"Tommy Thompson created the first school choice program in the nation, giving thousands of Milwaukee students the choice of where they go to school – no matter where they live or how much money their parents make.\"</td>\n",
       "      <td>\"tommy thompson created the first school choice program in the nation, giving thousands of milwaukee students the choice of where they go to school  no matter where they live or how much money their parents make.\"</td>\n",
       "    </tr>\n",
       "  </tbody>\n",
       "</table>\n",
       "<p>1007 rows × 3 columns</p>\n",
       "</div>"
      ],
      "text/plain": [
       "       veracity                                                                                                                                                                                                               statement                                                                                                                                                                                                    light_normalization\n",
       "10        False                                                                                                    \"Our courts find that 80 percent of those who do file for asylum aren’t qualified for it, do not merit that relief.\"                                                                                                    \"our courts find that 80 percent of those who do file for asylum arent qualified for it, do not merit that relief.\"\n",
       "23         True                                                                                                                                                       \"Migrant mother and ‘crying girl’ on Time cover never separated.\"                                                                                                                                                        \"migrant mother and crying girl on time cover never separated.\"\n",
       "35         True                                                                                                                                      \"Under Emanuel, CPS has become the most understaffed school district in Illinois.\"                                                                                                                                     \"under emanuel, cps has become the most understaffed school district in illinois.\"\n",
       "54        False                                                                                                    \"Our courts find that 80 percent of those who do file for asylum aren’t qualified for it, do not merit that relief.\"                                                                                                    \"our courts find that 80 percent of those who do file for asylum arent qualified for it, do not merit that relief.\"\n",
       "68        False                                                                                         \"Facebook picks sides in Alabama Senate race ... shuts down Gateway Pundit and Breitbart reports on discredited Allred accuser\"                                                                                        \"facebook picks sides in alabama senate race ... shuts down gateway pundit and breitbart reports on discredited allred accuser\"\n",
       "...         ...                                                                                                                                                                                                                     ...                                                                                                                                                                                                                    ...\n",
       "14175      True                                                                                                                                                   \"Currently, we're at 36 percent of our children born out of wedlock.\"                                                                                                                                                  \"currently, we're at 36 percent of our children born out of wedlock.\"\n",
       "14200      True                                                                                                                                                    \"I'm for a three-state political solution in Iraq. (Romney) is not.\"                                                                                                                                                   \"i'm for a three-state political solution in iraq. (romney) is not.\"\n",
       "14204     False                                                 \"For every single scientist that tells you (global warming is) happening and that it's our fault...I can stack up another group of reports that say just the opposite.\"                                                \"for every single scientist that tells you (global warming is) happening and that it's our fault...i can stack up another group of reports that say just the opposite.\"\n",
       "14207      True                                        \"Tommy Thompson is the father of welfare reform, creating the groundbreaking Wisconsin Works program in Wisconsin that became the model for national and international reforms.\"                                       \"tommy thompson is the father of welfare reform, creating the groundbreaking wisconsin works program in wisconsin that became the model for national and international reforms.\"\n",
       "14208      True  \"Tommy Thompson created the first school choice program in the nation, giving thousands of Milwaukee students the choice of where they go to school – no matter where they live or how much money their parents make.\"  \"tommy thompson created the first school choice program in the nation, giving thousands of milwaukee students the choice of where they go to school  no matter where they live or how much money their parents make.\"\n",
       "\n",
       "[1007 rows x 3 columns]"
      ]
     },
     "execution_count": 53,
     "metadata": {},
     "output_type": "execute_result"
    }
   ],
   "source": [
    "df"
   ]
  },
  {
   "cell_type": "code",
   "execution_count": 55,
   "metadata": {},
   "outputs": [],
   "source": []
  },
  {
   "cell_type": "markdown",
   "metadata": {},
   "source": [
    "# doesn't perform better than a simple n-gram model"
   ]
  },
  {
   "cell_type": "markdown",
   "metadata": {},
   "source": [
    "### What are the strongly predictive features?\n",
    "\n",
    "We use a neat trick to identify strongly predictive features (i.e. words). \n",
    "\n",
    "* first, create a data set such that each row has exactly one feature. This is represented by the identity matrix.\n",
    "\n",
    "        ex) features = \"Trump\", \"people\", \"the\"\n",
    "* use the trained classifier to make predictions on this matrix\n",
    "\n",
    "        ex) clf.pred(features)\n",
    "* sort the rows by predicted probabilities, and pick the top and bottom $K$ rows\n",
    "\n",
    "        ex) Trump & 89%, people & 10%, the & 1%"
   ]
  },
  {
   "cell_type": "code",
   "execution_count": 49,
   "metadata": {},
   "outputs": [],
   "source": [
    "_ , itest = train_test_split(range(df.shape[0]), test_size=0.3, random_state = 0)\n",
    "mask = np.zeros(df.shape[0], dtype=np.bool)\n",
    "mask[itest] = True\n"
   ]
  },
  {
   "cell_type": "code",
   "execution_count": 50,
   "metadata": {},
   "outputs": [
    {
     "name": "stdout",
     "output_type": "stream",
     "text": [
      "Accuracy on training data:  1.00\n",
      "Accuracy on test data:      0.56\n"
     ]
    }
   ],
   "source": [
    "def make_xy(df, features, target, vectorizer = None):\n",
    "    X = vectorizer.fit_transform(df[features]) \n",
    "    y = (df[target] == True)\n",
    "    return X, y\n",
    "\n",
    "vectorizer = CountVectorizer(lowercase = False, ngram_range = (1,3))\n",
    "\n",
    "X, y = make_xy(df, \"light_normalization\", \"veracity\", vectorizer)\n",
    "\n",
    "xtrain = X[mask]\n",
    "ytrain = y[mask]\n",
    "xtest = X[~mask]\n",
    "ytest = y[~mask]\n",
    "\n",
    "model = MultinomialNB().fit(xtrain, ytrain)\n",
    "\n",
    "training_accuracy = model.score(xtrain, ytrain)\n",
    "test_accuracy = model.score(xtest, ytest)\n",
    "\n",
    "print(\"Accuracy on training data: \", \"{:.2f}\".format(training_accuracy))\n",
    "print(\"Accuracy on test data:     \", \"{:.2f}\".format(test_accuracy))"
   ]
  },
  {
   "cell_type": "code",
   "execution_count": 43,
   "metadata": {},
   "outputs": [
    {
     "name": "stdout",
     "output_type": "stream",
     "text": [
      "The statement is true\n",
      "The statement is true\n",
      "The statement is true\n",
      "The statement is true\n",
      "The statement is true\n"
     ]
    }
   ],
   "source": []
  },
  {
   "cell_type": "code",
   "execution_count": 51,
   "metadata": {},
   "outputs": [
    {
     "name": "stdout",
     "output_type": "stream",
     "text": [
      "  (0, 15566)\t1\n",
      "  (0, 16128)\t1\n",
      "  (0, 2122)\t1\n",
      "  (0, 6522)\t1\n",
      "  (0, 10002)\t1\n",
      "  (0, 18127)\t1\n",
      "  (0, 26703)\t1\n",
      "  (0, 6379)\t1\n",
      "  (0, 16506)\t1\n",
      "  (0, 22282)\t1\n",
      "  (0, 15567)\t1\n",
      "  (0, 16129)\t1\n",
      "  (0, 2200)\t1\n",
      "  (0, 6523)\t1\n",
      "  (0, 10005)\t1\n",
      "  (0, 18292)\t1\n",
      "  (0, 26711)\t1\n",
      "  (0, 6386)\t1\n",
      "  (0, 16526)\t1\n",
      "  (0, 15568)\t1\n",
      "  (0, 16130)\t1\n",
      "  (0, 2201)\t1\n",
      "  (0, 6524)\t1\n",
      "  (0, 10006)\t1\n",
      "  (0, 18293)\t1\n",
      "  :\t:\n",
      "  (302, 25529)\t1\n",
      "  (302, 16320)\t1\n",
      "  (302, 10042)\t1\n",
      "  (302, 26614)\t1\n",
      "  (302, 17562)\t1\n",
      "  (302, 15700)\t1\n",
      "  (302, 23495)\t1\n",
      "  (302, 24976)\t1\n",
      "  (302, 5430)\t1\n",
      "  (302, 17942)\t1\n",
      "  (302, 29446)\t1\n",
      "  (302, 26345)\t1\n",
      "  (302, 10090)\t1\n",
      "  (302, 27263)\t1\n",
      "  (302, 22021)\t1\n",
      "  (302, 16710)\t1\n",
      "  (302, 15274)\t1\n",
      "  (302, 29448)\t1\n",
      "  (302, 26361)\t1\n",
      "  (302, 14758)\t1\n",
      "  (302, 18601)\t1\n",
      "  (302, 11752)\t1\n",
      "  (302, 16207)\t1\n",
      "  (302, 15819)\t1\n",
      "  (302, 26133)\t1\n"
     ]
    }
   ],
   "source": [
    "print(xtrain)"
   ]
  },
  {
   "cell_type": "code",
   "execution_count": 36,
   "metadata": {},
   "outputs": [
    {
     "name": "stdout",
     "output_type": "stream",
     "text": [
      "Truth words       P(true | word)\n",
      "                    three 0.90\n",
      "                   within 0.88\n",
      "               university 0.88\n",
      "                increased 0.86\n",
      "                number of 0.86\n",
      "                     past 0.86\n",
      "                  nuclear 0.86\n",
      "                    total 0.86\n",
      "                 the past 0.86\n",
      "               the number 0.86\n",
      "\n",
      "Falsehood words   P(true | word)\n",
      "                  working 0.20\n",
      "                 who have 0.20\n",
      "                automatic 0.20\n",
      "                obamacare 0.17\n",
      "                     side 0.17\n",
      "              legislature 0.17\n",
      "                    to go 0.17\n",
      "                    trump 0.17\n",
      "                    voted 0.13\n",
      "                     them 0.13\n"
     ]
    }
   ],
   "source": [
    "words = np.array(vectorizer.get_feature_names())\n",
    "\n",
    "x = np.eye(xtest.shape[1])\n",
    "probs = model.predict_log_proba(x)[:, 0]\n",
    "ind = np.argsort(probs)\n",
    "\n",
    "truth_words = words[ind[:10]]\n",
    "falsehood_words = words[ind[-10:]]\n",
    "\n",
    "truth_prob = probs[ind[:10]]\n",
    "falsehood_prob = probs[ind[-10:]]\n",
    "\n",
    "print(\"Truth words       P(true | word)\")\n",
    "for w, p in zip(truth_words, truth_prob):\n",
    "    print(\"{:>25}\".format(w), \"{:.2f}\".format(1 - np.exp(p)))\n",
    "    \n",
    "print()\n",
    "\n",
    "print(\"Falsehood words   P(true | word)\")\n",
    "for w, p in zip(falsehood_words, falsehood_prob):\n",
    "    print(\"{:>25}\".format(w), \"{:.2f}\".format(1 - np.exp(p)))"
   ]
  },
  {
   "cell_type": "code",
   "execution_count": 76,
   "metadata": {},
   "outputs": [],
   "source": [
    "#export df to csv\n",
    "df.to_csv(\"df.csv\", index = False)"
   ]
  },
  {
   "cell_type": "code",
   "execution_count": 56,
   "metadata": {},
   "outputs": [],
   "source": [
    "xtrain, xtest, ytrain, ytest = train_test_split(df.light_normalization, df[[\"veracity\"]], test_size = 0.3, random_state = 42)\n",
    "xtrain = vectorizer.fit_transform(xtrain)\n",
    "xtest = vectorizer.transform(xtest)"
   ]
  },
  {
   "cell_type": "code",
   "execution_count": 58,
   "metadata": {},
   "outputs": [],
   "source": [
    "ai = LogisticRegression().fit(xtrain, ytrain)"
   ]
  },
  {
   "cell_type": "code",
   "execution_count": 62,
   "metadata": {},
   "outputs": [
    {
     "name": "stdout",
     "output_type": "stream",
     "text": [
      "Accuray on training data: 1.0\n",
      "Accuray on test data: 0.6105610561056105\n"
     ]
    }
   ],
   "source": [
    "print(f\"Accuray on training data: {ai.score(xtrain, ytrain)}\")\n",
    "print(f\"Accuray on test data: {ai.score(xtest, ytest)}\")"
   ]
  },
  {
   "cell_type": "code",
   "execution_count": 77,
   "metadata": {},
   "outputs": [
    {
     "name": "stdout",
     "output_type": "stream",
     "text": [
      "The statement is true\n"
     ]
    }
   ],
   "source": [
    "# Predict a statement as true or false based on the model\n",
    "def predict_statement(statement,model):\n",
    "    statement = [statement]\n",
    "    statement = vectorizer.transform(statement)\n",
    "    prediction = model.predict(statement)\n",
    "    if prediction == True:\n",
    "        print(\"The statement is true\")\n",
    "    else:\n",
    "        print(\"The statement is false\")\n",
    "\n",
    "predict_statement(\"I am a bad person\",ai)"
   ]
  },
  {
   "cell_type": "code",
   "execution_count": 74,
   "metadata": {},
   "outputs": [],
   "source": [
    "#export the model\n",
    "import pickle\n",
    "pickle.dump(ai, open(\"../model.pkl\", \"wb\"))"
   ]
  },
  {
   "cell_type": "code",
   "execution_count": 75,
   "metadata": {},
   "outputs": [
    {
     "name": "stdout",
     "output_type": "stream",
     "text": [
      "The statement is true\n",
      "The statement is false\n"
     ]
    }
   ],
   "source": [
    "#load the model\n",
    "model = pickle.load(open(\"../model.pkl\", \"rb\"))\n",
    "predict_statement(\"I am a bad person\",model)\n",
    "predict_statement(\"I am a good person\",model)\n"
   ]
  },
  {
   "cell_type": "code",
   "execution_count": 78,
   "metadata": {},
   "outputs": [],
   "source": [
    "#pickle the vectorizer\n",
    "pickle.dump(vectorizer, open(\"../vectorizer.pkl\", \"wb\"))"
   ]
  }
 ],
 "metadata": {
  "kernelspec": {
   "display_name": "Python 3.10.7 64-bit",
   "language": "python",
   "name": "python3"
  },
  "language_info": {
   "codemirror_mode": {
    "name": "ipython",
    "version": 3
   },
   "file_extension": ".py",
   "mimetype": "text/x-python",
   "name": "python",
   "nbconvert_exporter": "python",
   "pygments_lexer": "ipython3",
   "version": "3.10.7"
  },
  "vscode": {
   "interpreter": {
    "hash": "aee8b7b246df8f9039afb4144a1f6fd8d2ca17a180786b69acc140d282b71a49"
   }
  }
 },
 "nbformat": 4,
 "nbformat_minor": 2
}
